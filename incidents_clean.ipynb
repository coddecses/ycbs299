{
  "nbformat": 4,
  "nbformat_minor": 0,
  "metadata": {
    "colab": {
      "provenance": []
    },
    "kernelspec": {
      "name": "python3",
      "display_name": "Python 3"
    },
    "language_info": {
      "name": "python"
    }
  },
  "cells": [
    {
      "cell_type": "code",
      "source": [
        "from google.colab import drive\n",
        "drive.mount('/content/drive')"
      ],
      "metadata": {
        "id": "AzjDbCVGBvHb"
      },
      "execution_count": null,
      "outputs": []
    },
    {
      "cell_type": "code",
      "source": [
        "pip install legacy-cgi googletrans==3.1.0a0"
      ],
      "metadata": {
        "id": "_xq97lOlIvNX"
      },
      "execution_count": null,
      "outputs": []
    },
    {
      "cell_type": "code",
      "execution_count": 64,
      "metadata": {
        "id": "RrS-gGguIotj"
      },
      "outputs": [],
      "source": [
        "import os\n",
        "import pandas as pd\n",
        "from googletrans import Translator"
      ]
    },
    {
      "cell_type": "code",
      "source": [
        "os.listdir()"
      ],
      "metadata": {
        "colab": {
          "base_uri": "https://localhost:8080/"
        },
        "id": "lvmQUWhaKpyE",
        "outputId": "18a541d8-1053-4ee0-8c8b-eae2ac998c21"
      },
      "execution_count": 65,
      "outputs": [
        {
          "output_type": "execute_result",
          "data": {
            "text/plain": [
              "['.config',\n",
              " 'type-interventions-descriptions20161122.csv',\n",
              " 'donneesouvertes-interventions-sim.csv',\n",
              " 'donneesouvertes-interventions-sim2020.csv',\n",
              " 'donneesouvertes-interventions-sim_2015_2022.csv',\n",
              " 'donneesouvertes-interventions-sim-2005-2014.csv',\n",
              " '.ipynb_checkpoints',\n",
              " 'sample_data']"
            ]
          },
          "metadata": {},
          "execution_count": 65
        }
      ]
    },
    {
      "cell_type": "code",
      "source": [
        "df_2005_2014 = pd.read_csv('donneesouvertes-interventions-sim-2005-2014.csv')\n",
        "df_2015_2022 = pd.read_csv('donneesouvertes-interventions-sim_2015_2022.csv').drop(columns=['MTM8_X', 'MTM8_Y'])\n",
        "df_2020_2023 = pd.read_csv('donneesouvertes-interventions-sim2020.csv').drop(columns=['MTM8_X', 'MTM8_Y'])\n",
        "df_2024_2025 = pd.read_csv('donneesouvertes-interventions-sim.csv').drop(columns=['MTM8_X', 'MTM8_Y'])"
      ],
      "metadata": {
        "id": "Emz2NDyNKrvF"
      },
      "execution_count": 66,
      "outputs": []
    },
    {
      "cell_type": "code",
      "source": [
        "df_2005_2014['CREATION_DATE_TIME'] = pd.to_datetime(df_2005_2014['CREATION_DATE_TIME'], format='ISO8601').dt.strftime('%Y-%m-%d')\n",
        "df_2015_2022['CREATION_DATE_TIME'] = pd.to_datetime(df_2015_2022['CREATION_DATE_TIME'], format='ISO8601').dt.strftime('%Y-%m-%d')\n",
        "df_2020_2023['CREATION_DATE_TIME'] = pd.to_datetime(df_2020_2023['CREATION_DATE_TIME'], format='ISO8601').dt.strftime('%Y-%m-%d')\n",
        "df_2024_2025['CREATION_DATE_TIME'] = pd.to_datetime(df_2024_2025['CREATION_DATE_TIME'], format='ISO8601').dt.strftime('%Y-%m-%d')"
      ],
      "metadata": {
        "id": "jBvuECU5UZSx"
      },
      "execution_count": 67,
      "outputs": []
    },
    {
      "cell_type": "code",
      "source": [
        "df_incidents = pd.concat([df_2005_2014, df_2015_2022, df_2020_2023, df_2024_2025], ignore_index=True)\n",
        "df_incidents.rename(columns={'CREATION_DATE_TIME': 'CREATION_DATE'}, inplace=True)\n",
        "df_incidents.drop_duplicates(subset=['INCIDENT_NBR', 'CREATION_DATE'], inplace=True)\n",
        "df_incidents.shape"
      ],
      "metadata": {
        "colab": {
          "base_uri": "https://localhost:8080/"
        },
        "id": "4jJlzkPfK0yD",
        "outputId": "d6edb9e8-a06d-4982-84c7-9a4bf1a8412b"
      },
      "execution_count": 68,
      "outputs": [
        {
          "output_type": "execute_result",
          "data": {
            "text/plain": [
              "(2050879, 11)"
            ]
          },
          "metadata": {},
          "execution_count": 68
        }
      ]
    },
    {
      "cell_type": "code",
      "source": [
        "df_incidents.sort_values(by=['CREATION_DATE','INCIDENT_NBR'], inplace=True)\n",
        "df_incidents.head()"
      ],
      "metadata": {
        "colab": {
          "base_uri": "https://localhost:8080/",
          "height": 206
        },
        "id": "kuQeRr41jT4s",
        "outputId": "1c3d3ff3-ae3d-40f7-9a7c-b962809a6985"
      },
      "execution_count": 69,
      "outputs": [
        {
          "output_type": "execute_result",
          "data": {
            "text/plain": [
              "   INCIDENT_NBR CREATION_DATE      INCIDENT_TYPE_DESC DESCRIPTION_GROUPE  \\\n",
              "0             1    2005-01-01              Inondation      Sans incendie   \n",
              "1             2    2005-01-01  Alarme privé ou locale  Alarmes-incendies   \n",
              "2             3    2005-01-01  Alarme privé ou locale  Alarmes-incendies   \n",
              "3             4    2005-01-01              Inondation      Sans incendie   \n",
              "4             5    2005-01-01              Inondation      Sans incendie   \n",
              "\n",
              "   CASERNE      NOM_VILLE                                    NOM_ARROND  \\\n",
              "0       18  Montréal-Nord                                 Montréal-Nord   \n",
              "1       10       Montréal  Ville-Marie / Parc Jean-Drapeau / Centre-Sud   \n",
              "2       72  Saint-Laurent                                    St-Laurent   \n",
              "3       13       Montréal               Mercier / Hochelaga-Maisonneuve   \n",
              "4       18  Montréal-Nord                                 Montréal-Nord   \n",
              "\n",
              "   DIVISION   LATITUDE  LONGITUDE  NOMBRE_UNITES  \n",
              "0        21  45.620274 -73.619956            1.0  \n",
              "1        18  45.494087 -73.582587            7.0  \n",
              "2        13  45.484406 -73.693038            6.0  \n",
              "3        23  45.541383 -73.545944            1.0  \n",
              "4        21  45.611304 -73.632440            1.0  "
            ],
            "text/html": [
              "\n",
              "  <div id=\"df-b8c8f57b-8a64-41de-95fa-ab48217f2649\" class=\"colab-df-container\">\n",
              "    <div>\n",
              "<style scoped>\n",
              "    .dataframe tbody tr th:only-of-type {\n",
              "        vertical-align: middle;\n",
              "    }\n",
              "\n",
              "    .dataframe tbody tr th {\n",
              "        vertical-align: top;\n",
              "    }\n",
              "\n",
              "    .dataframe thead th {\n",
              "        text-align: right;\n",
              "    }\n",
              "</style>\n",
              "<table border=\"1\" class=\"dataframe\">\n",
              "  <thead>\n",
              "    <tr style=\"text-align: right;\">\n",
              "      <th></th>\n",
              "      <th>INCIDENT_NBR</th>\n",
              "      <th>CREATION_DATE</th>\n",
              "      <th>INCIDENT_TYPE_DESC</th>\n",
              "      <th>DESCRIPTION_GROUPE</th>\n",
              "      <th>CASERNE</th>\n",
              "      <th>NOM_VILLE</th>\n",
              "      <th>NOM_ARROND</th>\n",
              "      <th>DIVISION</th>\n",
              "      <th>LATITUDE</th>\n",
              "      <th>LONGITUDE</th>\n",
              "      <th>NOMBRE_UNITES</th>\n",
              "    </tr>\n",
              "  </thead>\n",
              "  <tbody>\n",
              "    <tr>\n",
              "      <th>0</th>\n",
              "      <td>1</td>\n",
              "      <td>2005-01-01</td>\n",
              "      <td>Inondation</td>\n",
              "      <td>Sans incendie</td>\n",
              "      <td>18</td>\n",
              "      <td>Montréal-Nord</td>\n",
              "      <td>Montréal-Nord</td>\n",
              "      <td>21</td>\n",
              "      <td>45.620274</td>\n",
              "      <td>-73.619956</td>\n",
              "      <td>1.0</td>\n",
              "    </tr>\n",
              "    <tr>\n",
              "      <th>1</th>\n",
              "      <td>2</td>\n",
              "      <td>2005-01-01</td>\n",
              "      <td>Alarme privé ou locale</td>\n",
              "      <td>Alarmes-incendies</td>\n",
              "      <td>10</td>\n",
              "      <td>Montréal</td>\n",
              "      <td>Ville-Marie / Parc Jean-Drapeau / Centre-Sud</td>\n",
              "      <td>18</td>\n",
              "      <td>45.494087</td>\n",
              "      <td>-73.582587</td>\n",
              "      <td>7.0</td>\n",
              "    </tr>\n",
              "    <tr>\n",
              "      <th>2</th>\n",
              "      <td>3</td>\n",
              "      <td>2005-01-01</td>\n",
              "      <td>Alarme privé ou locale</td>\n",
              "      <td>Alarmes-incendies</td>\n",
              "      <td>72</td>\n",
              "      <td>Saint-Laurent</td>\n",
              "      <td>St-Laurent</td>\n",
              "      <td>13</td>\n",
              "      <td>45.484406</td>\n",
              "      <td>-73.693038</td>\n",
              "      <td>6.0</td>\n",
              "    </tr>\n",
              "    <tr>\n",
              "      <th>3</th>\n",
              "      <td>4</td>\n",
              "      <td>2005-01-01</td>\n",
              "      <td>Inondation</td>\n",
              "      <td>Sans incendie</td>\n",
              "      <td>13</td>\n",
              "      <td>Montréal</td>\n",
              "      <td>Mercier / Hochelaga-Maisonneuve</td>\n",
              "      <td>23</td>\n",
              "      <td>45.541383</td>\n",
              "      <td>-73.545944</td>\n",
              "      <td>1.0</td>\n",
              "    </tr>\n",
              "    <tr>\n",
              "      <th>4</th>\n",
              "      <td>5</td>\n",
              "      <td>2005-01-01</td>\n",
              "      <td>Inondation</td>\n",
              "      <td>Sans incendie</td>\n",
              "      <td>18</td>\n",
              "      <td>Montréal-Nord</td>\n",
              "      <td>Montréal-Nord</td>\n",
              "      <td>21</td>\n",
              "      <td>45.611304</td>\n",
              "      <td>-73.632440</td>\n",
              "      <td>1.0</td>\n",
              "    </tr>\n",
              "  </tbody>\n",
              "</table>\n",
              "</div>\n",
              "    <div class=\"colab-df-buttons\">\n",
              "\n",
              "  <div class=\"colab-df-container\">\n",
              "    <button class=\"colab-df-convert\" onclick=\"convertToInteractive('df-b8c8f57b-8a64-41de-95fa-ab48217f2649')\"\n",
              "            title=\"Convert this dataframe to an interactive table.\"\n",
              "            style=\"display:none;\">\n",
              "\n",
              "  <svg xmlns=\"http://www.w3.org/2000/svg\" height=\"24px\" viewBox=\"0 -960 960 960\">\n",
              "    <path d=\"M120-120v-720h720v720H120Zm60-500h600v-160H180v160Zm220 220h160v-160H400v160Zm0 220h160v-160H400v160ZM180-400h160v-160H180v160Zm440 0h160v-160H620v160ZM180-180h160v-160H180v160Zm440 0h160v-160H620v160Z\"/>\n",
              "  </svg>\n",
              "    </button>\n",
              "\n",
              "  <style>\n",
              "    .colab-df-container {\n",
              "      display:flex;\n",
              "      gap: 12px;\n",
              "    }\n",
              "\n",
              "    .colab-df-convert {\n",
              "      background-color: #E8F0FE;\n",
              "      border: none;\n",
              "      border-radius: 50%;\n",
              "      cursor: pointer;\n",
              "      display: none;\n",
              "      fill: #1967D2;\n",
              "      height: 32px;\n",
              "      padding: 0 0 0 0;\n",
              "      width: 32px;\n",
              "    }\n",
              "\n",
              "    .colab-df-convert:hover {\n",
              "      background-color: #E2EBFA;\n",
              "      box-shadow: 0px 1px 2px rgba(60, 64, 67, 0.3), 0px 1px 3px 1px rgba(60, 64, 67, 0.15);\n",
              "      fill: #174EA6;\n",
              "    }\n",
              "\n",
              "    .colab-df-buttons div {\n",
              "      margin-bottom: 4px;\n",
              "    }\n",
              "\n",
              "    [theme=dark] .colab-df-convert {\n",
              "      background-color: #3B4455;\n",
              "      fill: #D2E3FC;\n",
              "    }\n",
              "\n",
              "    [theme=dark] .colab-df-convert:hover {\n",
              "      background-color: #434B5C;\n",
              "      box-shadow: 0px 1px 3px 1px rgba(0, 0, 0, 0.15);\n",
              "      filter: drop-shadow(0px 1px 2px rgba(0, 0, 0, 0.3));\n",
              "      fill: #FFFFFF;\n",
              "    }\n",
              "  </style>\n",
              "\n",
              "    <script>\n",
              "      const buttonEl =\n",
              "        document.querySelector('#df-b8c8f57b-8a64-41de-95fa-ab48217f2649 button.colab-df-convert');\n",
              "      buttonEl.style.display =\n",
              "        google.colab.kernel.accessAllowed ? 'block' : 'none';\n",
              "\n",
              "      async function convertToInteractive(key) {\n",
              "        const element = document.querySelector('#df-b8c8f57b-8a64-41de-95fa-ab48217f2649');\n",
              "        const dataTable =\n",
              "          await google.colab.kernel.invokeFunction('convertToInteractive',\n",
              "                                                    [key], {});\n",
              "        if (!dataTable) return;\n",
              "\n",
              "        const docLinkHtml = 'Like what you see? Visit the ' +\n",
              "          '<a target=\"_blank\" href=https://colab.research.google.com/notebooks/data_table.ipynb>data table notebook</a>'\n",
              "          + ' to learn more about interactive tables.';\n",
              "        element.innerHTML = '';\n",
              "        dataTable['output_type'] = 'display_data';\n",
              "        await google.colab.output.renderOutput(dataTable, element);\n",
              "        const docLink = document.createElement('div');\n",
              "        docLink.innerHTML = docLinkHtml;\n",
              "        element.appendChild(docLink);\n",
              "      }\n",
              "    </script>\n",
              "  </div>\n",
              "\n",
              "\n",
              "<div id=\"df-f753856c-47af-4e7c-900e-8a25e9d5a9fc\">\n",
              "  <button class=\"colab-df-quickchart\" onclick=\"quickchart('df-f753856c-47af-4e7c-900e-8a25e9d5a9fc')\"\n",
              "            title=\"Suggest charts\"\n",
              "            style=\"display:none;\">\n",
              "\n",
              "<svg xmlns=\"http://www.w3.org/2000/svg\" height=\"24px\"viewBox=\"0 0 24 24\"\n",
              "     width=\"24px\">\n",
              "    <g>\n",
              "        <path d=\"M19 3H5c-1.1 0-2 .9-2 2v14c0 1.1.9 2 2 2h14c1.1 0 2-.9 2-2V5c0-1.1-.9-2-2-2zM9 17H7v-7h2v7zm4 0h-2V7h2v10zm4 0h-2v-4h2v4z\"/>\n",
              "    </g>\n",
              "</svg>\n",
              "  </button>\n",
              "\n",
              "<style>\n",
              "  .colab-df-quickchart {\n",
              "      --bg-color: #E8F0FE;\n",
              "      --fill-color: #1967D2;\n",
              "      --hover-bg-color: #E2EBFA;\n",
              "      --hover-fill-color: #174EA6;\n",
              "      --disabled-fill-color: #AAA;\n",
              "      --disabled-bg-color: #DDD;\n",
              "  }\n",
              "\n",
              "  [theme=dark] .colab-df-quickchart {\n",
              "      --bg-color: #3B4455;\n",
              "      --fill-color: #D2E3FC;\n",
              "      --hover-bg-color: #434B5C;\n",
              "      --hover-fill-color: #FFFFFF;\n",
              "      --disabled-bg-color: #3B4455;\n",
              "      --disabled-fill-color: #666;\n",
              "  }\n",
              "\n",
              "  .colab-df-quickchart {\n",
              "    background-color: var(--bg-color);\n",
              "    border: none;\n",
              "    border-radius: 50%;\n",
              "    cursor: pointer;\n",
              "    display: none;\n",
              "    fill: var(--fill-color);\n",
              "    height: 32px;\n",
              "    padding: 0;\n",
              "    width: 32px;\n",
              "  }\n",
              "\n",
              "  .colab-df-quickchart:hover {\n",
              "    background-color: var(--hover-bg-color);\n",
              "    box-shadow: 0 1px 2px rgba(60, 64, 67, 0.3), 0 1px 3px 1px rgba(60, 64, 67, 0.15);\n",
              "    fill: var(--button-hover-fill-color);\n",
              "  }\n",
              "\n",
              "  .colab-df-quickchart-complete:disabled,\n",
              "  .colab-df-quickchart-complete:disabled:hover {\n",
              "    background-color: var(--disabled-bg-color);\n",
              "    fill: var(--disabled-fill-color);\n",
              "    box-shadow: none;\n",
              "  }\n",
              "\n",
              "  .colab-df-spinner {\n",
              "    border: 2px solid var(--fill-color);\n",
              "    border-color: transparent;\n",
              "    border-bottom-color: var(--fill-color);\n",
              "    animation:\n",
              "      spin 1s steps(1) infinite;\n",
              "  }\n",
              "\n",
              "  @keyframes spin {\n",
              "    0% {\n",
              "      border-color: transparent;\n",
              "      border-bottom-color: var(--fill-color);\n",
              "      border-left-color: var(--fill-color);\n",
              "    }\n",
              "    20% {\n",
              "      border-color: transparent;\n",
              "      border-left-color: var(--fill-color);\n",
              "      border-top-color: var(--fill-color);\n",
              "    }\n",
              "    30% {\n",
              "      border-color: transparent;\n",
              "      border-left-color: var(--fill-color);\n",
              "      border-top-color: var(--fill-color);\n",
              "      border-right-color: var(--fill-color);\n",
              "    }\n",
              "    40% {\n",
              "      border-color: transparent;\n",
              "      border-right-color: var(--fill-color);\n",
              "      border-top-color: var(--fill-color);\n",
              "    }\n",
              "    60% {\n",
              "      border-color: transparent;\n",
              "      border-right-color: var(--fill-color);\n",
              "    }\n",
              "    80% {\n",
              "      border-color: transparent;\n",
              "      border-right-color: var(--fill-color);\n",
              "      border-bottom-color: var(--fill-color);\n",
              "    }\n",
              "    90% {\n",
              "      border-color: transparent;\n",
              "      border-bottom-color: var(--fill-color);\n",
              "    }\n",
              "  }\n",
              "</style>\n",
              "\n",
              "  <script>\n",
              "    async function quickchart(key) {\n",
              "      const quickchartButtonEl =\n",
              "        document.querySelector('#' + key + ' button');\n",
              "      quickchartButtonEl.disabled = true;  // To prevent multiple clicks.\n",
              "      quickchartButtonEl.classList.add('colab-df-spinner');\n",
              "      try {\n",
              "        const charts = await google.colab.kernel.invokeFunction(\n",
              "            'suggestCharts', [key], {});\n",
              "      } catch (error) {\n",
              "        console.error('Error during call to suggestCharts:', error);\n",
              "      }\n",
              "      quickchartButtonEl.classList.remove('colab-df-spinner');\n",
              "      quickchartButtonEl.classList.add('colab-df-quickchart-complete');\n",
              "    }\n",
              "    (() => {\n",
              "      let quickchartButtonEl =\n",
              "        document.querySelector('#df-f753856c-47af-4e7c-900e-8a25e9d5a9fc button');\n",
              "      quickchartButtonEl.style.display =\n",
              "        google.colab.kernel.accessAllowed ? 'block' : 'none';\n",
              "    })();\n",
              "  </script>\n",
              "</div>\n",
              "\n",
              "    </div>\n",
              "  </div>\n"
            ],
            "application/vnd.google.colaboratory.intrinsic+json": {
              "type": "dataframe",
              "variable_name": "df_incidents"
            }
          },
          "metadata": {},
          "execution_count": 69
        }
      ]
    },
    {
      "cell_type": "code",
      "source": [
        "df_incidents['DESCRIPTION_GROUPE'].unique()"
      ],
      "metadata": {
        "colab": {
          "base_uri": "https://localhost:8080/"
        },
        "id": "dwpGkZ4XPR3V",
        "outputId": "abb24449-8070-4dbd-fbef-f6eb31c9295e"
      },
      "execution_count": 70,
      "outputs": [
        {
          "output_type": "execute_result",
          "data": {
            "text/plain": [
              "array(['Sans incendie', 'Alarmes-incendies', 'Autres incendies',\n",
              "       'Fausses alertes/annulations', 'Premier répondant',\n",
              "       'Incendies de bâtiments', 'SANS FEU', '1-REPOND', 'AUTREFEU',\n",
              "       'INCENDIE', 'FAU-ALER', 'NOUVEAU', nan], dtype=object)"
            ]
          },
          "metadata": {},
          "execution_count": 70
        }
      ]
    },
    {
      "cell_type": "code",
      "source": [
        "description_groups_translated = {\n",
        "    \"1-REPOND\": \"First response\",\n",
        "    \"Premier répondant\": \"First response\",\n",
        "    \"Alarmes-incendies\": \"Fire alarm\",\n",
        "    \"SANS FEU\": \"No fire\",\n",
        "    \"Sans incendie\": \"No fire\",\n",
        "    \"Autres incendies\": \"Other fires\",\n",
        "    \"AUTREFEU\": \"Other fires\",\n",
        "    \"Incendies de bâtiments\": \"Building fire\",\n",
        "    \"Fausses alertes/annulations\": \"False alarm/cancellation\",\n",
        "    \"INCENDIE\": \"Fire\",\n",
        "    \"FAU-ALER\": \"False alarm/cancellation\",\n",
        "    \"NOUVEAU\": \"New\"\n",
        "}\n",
        "df_incidents['DESC_GROUP_ENGLISH'] = df_interventions['DESCRIPTION_GROUPE'].map(description_groups_translated)\n",
        "df_incidents.head()"
      ],
      "metadata": {
        "id": "3bEroZTTz8iS",
        "colab": {
          "base_uri": "https://localhost:8080/",
          "height": 293
        },
        "outputId": "2fc696be-92b0-4a4c-ffab-dede069c3e35"
      },
      "execution_count": 71,
      "outputs": [
        {
          "output_type": "execute_result",
          "data": {
            "text/plain": [
              "   INCIDENT_NBR CREATION_DATE      INCIDENT_TYPE_DESC DESCRIPTION_GROUPE  \\\n",
              "0             1    2005-01-01              Inondation      Sans incendie   \n",
              "1             2    2005-01-01  Alarme privé ou locale  Alarmes-incendies   \n",
              "2             3    2005-01-01  Alarme privé ou locale  Alarmes-incendies   \n",
              "3             4    2005-01-01              Inondation      Sans incendie   \n",
              "4             5    2005-01-01              Inondation      Sans incendie   \n",
              "\n",
              "   CASERNE      NOM_VILLE                                    NOM_ARROND  \\\n",
              "0       18  Montréal-Nord                                 Montréal-Nord   \n",
              "1       10       Montréal  Ville-Marie / Parc Jean-Drapeau / Centre-Sud   \n",
              "2       72  Saint-Laurent                                    St-Laurent   \n",
              "3       13       Montréal               Mercier / Hochelaga-Maisonneuve   \n",
              "4       18  Montréal-Nord                                 Montréal-Nord   \n",
              "\n",
              "   DIVISION   LATITUDE  LONGITUDE  NOMBRE_UNITES DESC_GROUP_ENGLISH  \n",
              "0        21  45.620274 -73.619956            1.0            No fire  \n",
              "1        18  45.494087 -73.582587            7.0         Fire alarm  \n",
              "2        13  45.484406 -73.693038            6.0         Fire alarm  \n",
              "3        23  45.541383 -73.545944            1.0            No fire  \n",
              "4        21  45.611304 -73.632440            1.0            No fire  "
            ],
            "text/html": [
              "\n",
              "  <div id=\"df-438ff8af-1366-46e0-8d1f-ffde4366a5de\" class=\"colab-df-container\">\n",
              "    <div>\n",
              "<style scoped>\n",
              "    .dataframe tbody tr th:only-of-type {\n",
              "        vertical-align: middle;\n",
              "    }\n",
              "\n",
              "    .dataframe tbody tr th {\n",
              "        vertical-align: top;\n",
              "    }\n",
              "\n",
              "    .dataframe thead th {\n",
              "        text-align: right;\n",
              "    }\n",
              "</style>\n",
              "<table border=\"1\" class=\"dataframe\">\n",
              "  <thead>\n",
              "    <tr style=\"text-align: right;\">\n",
              "      <th></th>\n",
              "      <th>INCIDENT_NBR</th>\n",
              "      <th>CREATION_DATE</th>\n",
              "      <th>INCIDENT_TYPE_DESC</th>\n",
              "      <th>DESCRIPTION_GROUPE</th>\n",
              "      <th>CASERNE</th>\n",
              "      <th>NOM_VILLE</th>\n",
              "      <th>NOM_ARROND</th>\n",
              "      <th>DIVISION</th>\n",
              "      <th>LATITUDE</th>\n",
              "      <th>LONGITUDE</th>\n",
              "      <th>NOMBRE_UNITES</th>\n",
              "      <th>DESC_GROUP_ENGLISH</th>\n",
              "    </tr>\n",
              "  </thead>\n",
              "  <tbody>\n",
              "    <tr>\n",
              "      <th>0</th>\n",
              "      <td>1</td>\n",
              "      <td>2005-01-01</td>\n",
              "      <td>Inondation</td>\n",
              "      <td>Sans incendie</td>\n",
              "      <td>18</td>\n",
              "      <td>Montréal-Nord</td>\n",
              "      <td>Montréal-Nord</td>\n",
              "      <td>21</td>\n",
              "      <td>45.620274</td>\n",
              "      <td>-73.619956</td>\n",
              "      <td>1.0</td>\n",
              "      <td>No fire</td>\n",
              "    </tr>\n",
              "    <tr>\n",
              "      <th>1</th>\n",
              "      <td>2</td>\n",
              "      <td>2005-01-01</td>\n",
              "      <td>Alarme privé ou locale</td>\n",
              "      <td>Alarmes-incendies</td>\n",
              "      <td>10</td>\n",
              "      <td>Montréal</td>\n",
              "      <td>Ville-Marie / Parc Jean-Drapeau / Centre-Sud</td>\n",
              "      <td>18</td>\n",
              "      <td>45.494087</td>\n",
              "      <td>-73.582587</td>\n",
              "      <td>7.0</td>\n",
              "      <td>Fire alarm</td>\n",
              "    </tr>\n",
              "    <tr>\n",
              "      <th>2</th>\n",
              "      <td>3</td>\n",
              "      <td>2005-01-01</td>\n",
              "      <td>Alarme privé ou locale</td>\n",
              "      <td>Alarmes-incendies</td>\n",
              "      <td>72</td>\n",
              "      <td>Saint-Laurent</td>\n",
              "      <td>St-Laurent</td>\n",
              "      <td>13</td>\n",
              "      <td>45.484406</td>\n",
              "      <td>-73.693038</td>\n",
              "      <td>6.0</td>\n",
              "      <td>Fire alarm</td>\n",
              "    </tr>\n",
              "    <tr>\n",
              "      <th>3</th>\n",
              "      <td>4</td>\n",
              "      <td>2005-01-01</td>\n",
              "      <td>Inondation</td>\n",
              "      <td>Sans incendie</td>\n",
              "      <td>13</td>\n",
              "      <td>Montréal</td>\n",
              "      <td>Mercier / Hochelaga-Maisonneuve</td>\n",
              "      <td>23</td>\n",
              "      <td>45.541383</td>\n",
              "      <td>-73.545944</td>\n",
              "      <td>1.0</td>\n",
              "      <td>No fire</td>\n",
              "    </tr>\n",
              "    <tr>\n",
              "      <th>4</th>\n",
              "      <td>5</td>\n",
              "      <td>2005-01-01</td>\n",
              "      <td>Inondation</td>\n",
              "      <td>Sans incendie</td>\n",
              "      <td>18</td>\n",
              "      <td>Montréal-Nord</td>\n",
              "      <td>Montréal-Nord</td>\n",
              "      <td>21</td>\n",
              "      <td>45.611304</td>\n",
              "      <td>-73.632440</td>\n",
              "      <td>1.0</td>\n",
              "      <td>No fire</td>\n",
              "    </tr>\n",
              "  </tbody>\n",
              "</table>\n",
              "</div>\n",
              "    <div class=\"colab-df-buttons\">\n",
              "\n",
              "  <div class=\"colab-df-container\">\n",
              "    <button class=\"colab-df-convert\" onclick=\"convertToInteractive('df-438ff8af-1366-46e0-8d1f-ffde4366a5de')\"\n",
              "            title=\"Convert this dataframe to an interactive table.\"\n",
              "            style=\"display:none;\">\n",
              "\n",
              "  <svg xmlns=\"http://www.w3.org/2000/svg\" height=\"24px\" viewBox=\"0 -960 960 960\">\n",
              "    <path d=\"M120-120v-720h720v720H120Zm60-500h600v-160H180v160Zm220 220h160v-160H400v160Zm0 220h160v-160H400v160ZM180-400h160v-160H180v160Zm440 0h160v-160H620v160ZM180-180h160v-160H180v160Zm440 0h160v-160H620v160Z\"/>\n",
              "  </svg>\n",
              "    </button>\n",
              "\n",
              "  <style>\n",
              "    .colab-df-container {\n",
              "      display:flex;\n",
              "      gap: 12px;\n",
              "    }\n",
              "\n",
              "    .colab-df-convert {\n",
              "      background-color: #E8F0FE;\n",
              "      border: none;\n",
              "      border-radius: 50%;\n",
              "      cursor: pointer;\n",
              "      display: none;\n",
              "      fill: #1967D2;\n",
              "      height: 32px;\n",
              "      padding: 0 0 0 0;\n",
              "      width: 32px;\n",
              "    }\n",
              "\n",
              "    .colab-df-convert:hover {\n",
              "      background-color: #E2EBFA;\n",
              "      box-shadow: 0px 1px 2px rgba(60, 64, 67, 0.3), 0px 1px 3px 1px rgba(60, 64, 67, 0.15);\n",
              "      fill: #174EA6;\n",
              "    }\n",
              "\n",
              "    .colab-df-buttons div {\n",
              "      margin-bottom: 4px;\n",
              "    }\n",
              "\n",
              "    [theme=dark] .colab-df-convert {\n",
              "      background-color: #3B4455;\n",
              "      fill: #D2E3FC;\n",
              "    }\n",
              "\n",
              "    [theme=dark] .colab-df-convert:hover {\n",
              "      background-color: #434B5C;\n",
              "      box-shadow: 0px 1px 3px 1px rgba(0, 0, 0, 0.15);\n",
              "      filter: drop-shadow(0px 1px 2px rgba(0, 0, 0, 0.3));\n",
              "      fill: #FFFFFF;\n",
              "    }\n",
              "  </style>\n",
              "\n",
              "    <script>\n",
              "      const buttonEl =\n",
              "        document.querySelector('#df-438ff8af-1366-46e0-8d1f-ffde4366a5de button.colab-df-convert');\n",
              "      buttonEl.style.display =\n",
              "        google.colab.kernel.accessAllowed ? 'block' : 'none';\n",
              "\n",
              "      async function convertToInteractive(key) {\n",
              "        const element = document.querySelector('#df-438ff8af-1366-46e0-8d1f-ffde4366a5de');\n",
              "        const dataTable =\n",
              "          await google.colab.kernel.invokeFunction('convertToInteractive',\n",
              "                                                    [key], {});\n",
              "        if (!dataTable) return;\n",
              "\n",
              "        const docLinkHtml = 'Like what you see? Visit the ' +\n",
              "          '<a target=\"_blank\" href=https://colab.research.google.com/notebooks/data_table.ipynb>data table notebook</a>'\n",
              "          + ' to learn more about interactive tables.';\n",
              "        element.innerHTML = '';\n",
              "        dataTable['output_type'] = 'display_data';\n",
              "        await google.colab.output.renderOutput(dataTable, element);\n",
              "        const docLink = document.createElement('div');\n",
              "        docLink.innerHTML = docLinkHtml;\n",
              "        element.appendChild(docLink);\n",
              "      }\n",
              "    </script>\n",
              "  </div>\n",
              "\n",
              "\n",
              "<div id=\"df-c0fc1957-7677-4b7b-aa25-a4b5cb6a2a81\">\n",
              "  <button class=\"colab-df-quickchart\" onclick=\"quickchart('df-c0fc1957-7677-4b7b-aa25-a4b5cb6a2a81')\"\n",
              "            title=\"Suggest charts\"\n",
              "            style=\"display:none;\">\n",
              "\n",
              "<svg xmlns=\"http://www.w3.org/2000/svg\" height=\"24px\"viewBox=\"0 0 24 24\"\n",
              "     width=\"24px\">\n",
              "    <g>\n",
              "        <path d=\"M19 3H5c-1.1 0-2 .9-2 2v14c0 1.1.9 2 2 2h14c1.1 0 2-.9 2-2V5c0-1.1-.9-2-2-2zM9 17H7v-7h2v7zm4 0h-2V7h2v10zm4 0h-2v-4h2v4z\"/>\n",
              "    </g>\n",
              "</svg>\n",
              "  </button>\n",
              "\n",
              "<style>\n",
              "  .colab-df-quickchart {\n",
              "      --bg-color: #E8F0FE;\n",
              "      --fill-color: #1967D2;\n",
              "      --hover-bg-color: #E2EBFA;\n",
              "      --hover-fill-color: #174EA6;\n",
              "      --disabled-fill-color: #AAA;\n",
              "      --disabled-bg-color: #DDD;\n",
              "  }\n",
              "\n",
              "  [theme=dark] .colab-df-quickchart {\n",
              "      --bg-color: #3B4455;\n",
              "      --fill-color: #D2E3FC;\n",
              "      --hover-bg-color: #434B5C;\n",
              "      --hover-fill-color: #FFFFFF;\n",
              "      --disabled-bg-color: #3B4455;\n",
              "      --disabled-fill-color: #666;\n",
              "  }\n",
              "\n",
              "  .colab-df-quickchart {\n",
              "    background-color: var(--bg-color);\n",
              "    border: none;\n",
              "    border-radius: 50%;\n",
              "    cursor: pointer;\n",
              "    display: none;\n",
              "    fill: var(--fill-color);\n",
              "    height: 32px;\n",
              "    padding: 0;\n",
              "    width: 32px;\n",
              "  }\n",
              "\n",
              "  .colab-df-quickchart:hover {\n",
              "    background-color: var(--hover-bg-color);\n",
              "    box-shadow: 0 1px 2px rgba(60, 64, 67, 0.3), 0 1px 3px 1px rgba(60, 64, 67, 0.15);\n",
              "    fill: var(--button-hover-fill-color);\n",
              "  }\n",
              "\n",
              "  .colab-df-quickchart-complete:disabled,\n",
              "  .colab-df-quickchart-complete:disabled:hover {\n",
              "    background-color: var(--disabled-bg-color);\n",
              "    fill: var(--disabled-fill-color);\n",
              "    box-shadow: none;\n",
              "  }\n",
              "\n",
              "  .colab-df-spinner {\n",
              "    border: 2px solid var(--fill-color);\n",
              "    border-color: transparent;\n",
              "    border-bottom-color: var(--fill-color);\n",
              "    animation:\n",
              "      spin 1s steps(1) infinite;\n",
              "  }\n",
              "\n",
              "  @keyframes spin {\n",
              "    0% {\n",
              "      border-color: transparent;\n",
              "      border-bottom-color: var(--fill-color);\n",
              "      border-left-color: var(--fill-color);\n",
              "    }\n",
              "    20% {\n",
              "      border-color: transparent;\n",
              "      border-left-color: var(--fill-color);\n",
              "      border-top-color: var(--fill-color);\n",
              "    }\n",
              "    30% {\n",
              "      border-color: transparent;\n",
              "      border-left-color: var(--fill-color);\n",
              "      border-top-color: var(--fill-color);\n",
              "      border-right-color: var(--fill-color);\n",
              "    }\n",
              "    40% {\n",
              "      border-color: transparent;\n",
              "      border-right-color: var(--fill-color);\n",
              "      border-top-color: var(--fill-color);\n",
              "    }\n",
              "    60% {\n",
              "      border-color: transparent;\n",
              "      border-right-color: var(--fill-color);\n",
              "    }\n",
              "    80% {\n",
              "      border-color: transparent;\n",
              "      border-right-color: var(--fill-color);\n",
              "      border-bottom-color: var(--fill-color);\n",
              "    }\n",
              "    90% {\n",
              "      border-color: transparent;\n",
              "      border-bottom-color: var(--fill-color);\n",
              "    }\n",
              "  }\n",
              "</style>\n",
              "\n",
              "  <script>\n",
              "    async function quickchart(key) {\n",
              "      const quickchartButtonEl =\n",
              "        document.querySelector('#' + key + ' button');\n",
              "      quickchartButtonEl.disabled = true;  // To prevent multiple clicks.\n",
              "      quickchartButtonEl.classList.add('colab-df-spinner');\n",
              "      try {\n",
              "        const charts = await google.colab.kernel.invokeFunction(\n",
              "            'suggestCharts', [key], {});\n",
              "      } catch (error) {\n",
              "        console.error('Error during call to suggestCharts:', error);\n",
              "      }\n",
              "      quickchartButtonEl.classList.remove('colab-df-spinner');\n",
              "      quickchartButtonEl.classList.add('colab-df-quickchart-complete');\n",
              "    }\n",
              "    (() => {\n",
              "      let quickchartButtonEl =\n",
              "        document.querySelector('#df-c0fc1957-7677-4b7b-aa25-a4b5cb6a2a81 button');\n",
              "      quickchartButtonEl.style.display =\n",
              "        google.colab.kernel.accessAllowed ? 'block' : 'none';\n",
              "    })();\n",
              "  </script>\n",
              "</div>\n",
              "\n",
              "    </div>\n",
              "  </div>\n"
            ],
            "application/vnd.google.colaboratory.intrinsic+json": {
              "type": "dataframe",
              "variable_name": "df_incidents"
            }
          },
          "metadata": {},
          "execution_count": 71
        }
      ]
    },
    {
      "cell_type": "code",
      "source": [
        "\"\"\"\n",
        "translator = Translator()\n",
        "df_type_descriptions = pd.read_csv('type-interventions-descriptions20161122.csv')\n",
        "df_type_descriptions.rename(columns={'INCIDENT_TYPE_DESCRIPTION': 'INCIDENT_TYPE_DESC', 'Description': 'DESCRIPTION'}, inplace=True)\n",
        "df_type_descriptions.drop(\n",
        "    df_type_descriptions[df_type_descriptions['DESCRIPTION'] == \"Type qui n'est plus utilisé à la suite de la mise à jour de l'algorithme en 2016\"].index,\n",
        "    inplace=True\n",
        ")\n",
        "df_type_descriptions['DESC_ENGLISH'] = df_type_descriptions['DESCRIPTION'].apply(translator.translate, src='fr', dest='en').apply(getattr, args=('text',))\n",
        "df_type_descriptions.head()\n",
        "\"\"\""
      ],
      "metadata": {
        "colab": {
          "base_uri": "https://localhost:8080/",
          "height": 86
        },
        "id": "oh2KNrGUmZ11",
        "outputId": "0a415a67-0206-40a0-8a0d-e426039c1774"
      },
      "execution_count": 72,
      "outputs": [
        {
          "output_type": "execute_result",
          "data": {
            "text/plain": [
              "'\\ntranslator = Translator()\\ndf_type_descriptions = pd.read_csv(\\'type-interventions-descriptions20161122.csv\\')\\ndf_type_descriptions.rename(columns={\\'INCIDENT_TYPE_DESCRIPTION\\': \\'INCIDENT_TYPE_DESC\\', \\'Description\\': \\'DESCRIPTION\\'}, inplace=True)\\ndf_type_descriptions.drop(\\n    df_type_descriptions[df_type_descriptions[\\'DESCRIPTION\\'] == \"Type qui n\\'est plus utilisé à la suite de la mise à jour de l\\'algorithme en 2016\"].index,\\n    inplace=True\\n)\\ndf_type_descriptions[\\'DESC_ENGLISH\\'] = df_type_descriptions[\\'DESCRIPTION\\'].apply(translator.translate, src=\\'fr\\', dest=\\'en\\').apply(getattr, args=(\\'text\\',))\\ndf_type_descriptions.head()\\n'"
            ],
            "application/vnd.google.colaboratory.intrinsic+json": {
              "type": "string"
            }
          },
          "metadata": {},
          "execution_count": 72
        }
      ]
    },
    {
      "cell_type": "code",
      "source": [
        "\"\"\"\n",
        "df_merged = pd.merge(df_incidents, df_type_descriptions, on='INCIDENT_TYPE_DESC', how='left')\n",
        "df_merged = df_merged.iloc[:, [1, 0, 2, 3, 4, 5, 6, 7, 8, 9, 10, 12, 11, 13]]\n",
        "print(df_merged.shape)\n",
        "df_merged.head()\n",
        "\"\"\""
      ],
      "metadata": {
        "id": "Ci86BRVBoEiS",
        "colab": {
          "base_uri": "https://localhost:8080/",
          "height": 52
        },
        "outputId": "faea2e76-029d-4a2e-ce67-571535663446"
      },
      "execution_count": 73,
      "outputs": [
        {
          "output_type": "execute_result",
          "data": {
            "text/plain": [
              "\"\\ndf_merged = pd.merge(df_incidents, df_type_descriptions, on='INCIDENT_TYPE_DESC', how='left')\\ndf_merged = df_merged.iloc[:, [1, 0, 2, 3, 4, 5, 6, 7, 8, 9, 10, 12, 11, 13]]\\nprint(df_merged.shape)\\ndf_merged.head()\\n\""
            ],
            "application/vnd.google.colaboratory.intrinsic+json": {
              "type": "string"
            }
          },
          "metadata": {},
          "execution_count": 73
        }
      ]
    },
    {
      "cell_type": "code",
      "source": [
        "df_na = df_incidents[df_incidents.isna().any(axis=1) == True]\n",
        "df_na.shape"
      ],
      "metadata": {
        "colab": {
          "base_uri": "https://localhost:8080/"
        },
        "id": "1IEDqa73sioz",
        "outputId": "3db256bb-2f62-475a-8007-7132c5d49b71"
      },
      "execution_count": 74,
      "outputs": [
        {
          "output_type": "execute_result",
          "data": {
            "text/plain": [
              "(1784, 12)"
            ]
          },
          "metadata": {},
          "execution_count": 74
        }
      ]
    },
    {
      "cell_type": "code",
      "source": [
        "df_na.isna().sum()"
      ],
      "metadata": {
        "colab": {
          "base_uri": "https://localhost:8080/",
          "height": 461
        },
        "id": "soJ3CNJ4vomt",
        "outputId": "172c8e66-5010-4c60-c313-1c58be3a972c"
      },
      "execution_count": 75,
      "outputs": [
        {
          "output_type": "execute_result",
          "data": {
            "text/plain": [
              "INCIDENT_NBR             0\n",
              "CREATION_DATE            0\n",
              "INCIDENT_TYPE_DESC       0\n",
              "DESCRIPTION_GROUPE    1034\n",
              "CASERNE                  0\n",
              "NOM_VILLE                0\n",
              "NOM_ARROND               0\n",
              "DIVISION                 0\n",
              "LATITUDE                 1\n",
              "LONGITUDE                1\n",
              "NOMBRE_UNITES          749\n",
              "DESC_GROUP_ENGLISH    1034\n",
              "dtype: int64"
            ],
            "text/html": [
              "<div>\n",
              "<style scoped>\n",
              "    .dataframe tbody tr th:only-of-type {\n",
              "        vertical-align: middle;\n",
              "    }\n",
              "\n",
              "    .dataframe tbody tr th {\n",
              "        vertical-align: top;\n",
              "    }\n",
              "\n",
              "    .dataframe thead th {\n",
              "        text-align: right;\n",
              "    }\n",
              "</style>\n",
              "<table border=\"1\" class=\"dataframe\">\n",
              "  <thead>\n",
              "    <tr style=\"text-align: right;\">\n",
              "      <th></th>\n",
              "      <th>0</th>\n",
              "    </tr>\n",
              "  </thead>\n",
              "  <tbody>\n",
              "    <tr>\n",
              "      <th>INCIDENT_NBR</th>\n",
              "      <td>0</td>\n",
              "    </tr>\n",
              "    <tr>\n",
              "      <th>CREATION_DATE</th>\n",
              "      <td>0</td>\n",
              "    </tr>\n",
              "    <tr>\n",
              "      <th>INCIDENT_TYPE_DESC</th>\n",
              "      <td>0</td>\n",
              "    </tr>\n",
              "    <tr>\n",
              "      <th>DESCRIPTION_GROUPE</th>\n",
              "      <td>1034</td>\n",
              "    </tr>\n",
              "    <tr>\n",
              "      <th>CASERNE</th>\n",
              "      <td>0</td>\n",
              "    </tr>\n",
              "    <tr>\n",
              "      <th>NOM_VILLE</th>\n",
              "      <td>0</td>\n",
              "    </tr>\n",
              "    <tr>\n",
              "      <th>NOM_ARROND</th>\n",
              "      <td>0</td>\n",
              "    </tr>\n",
              "    <tr>\n",
              "      <th>DIVISION</th>\n",
              "      <td>0</td>\n",
              "    </tr>\n",
              "    <tr>\n",
              "      <th>LATITUDE</th>\n",
              "      <td>1</td>\n",
              "    </tr>\n",
              "    <tr>\n",
              "      <th>LONGITUDE</th>\n",
              "      <td>1</td>\n",
              "    </tr>\n",
              "    <tr>\n",
              "      <th>NOMBRE_UNITES</th>\n",
              "      <td>749</td>\n",
              "    </tr>\n",
              "    <tr>\n",
              "      <th>DESC_GROUP_ENGLISH</th>\n",
              "      <td>1034</td>\n",
              "    </tr>\n",
              "  </tbody>\n",
              "</table>\n",
              "</div><br><label><b>dtype:</b> int64</label>"
            ]
          },
          "metadata": {},
          "execution_count": 75
        }
      ]
    },
    {
      "cell_type": "code",
      "source": [
        "df_incidents.dropna(axis=0, inplace=True)\n",
        "df_incidents.shape"
      ],
      "metadata": {
        "colab": {
          "base_uri": "https://localhost:8080/"
        },
        "id": "7rf4yjin9b4G",
        "outputId": "7d9b3c21-ceef-425a-8767-b4650c1a6360"
      },
      "execution_count": 76,
      "outputs": [
        {
          "output_type": "execute_result",
          "data": {
            "text/plain": [
              "(2049095, 12)"
            ]
          },
          "metadata": {},
          "execution_count": 76
        }
      ]
    },
    {
      "cell_type": "code",
      "source": [
        "df_incidents['DESC_GROUP_ENGLISH'].value_counts()"
      ],
      "metadata": {
        "colab": {
          "base_uri": "https://localhost:8080/",
          "height": 366
        },
        "id": "7Hl5SfoNPS1H",
        "outputId": "97b69d90-6566-4c4c-b1c6-5031caa9f1b6"
      },
      "execution_count": 77,
      "outputs": [
        {
          "output_type": "execute_result",
          "data": {
            "text/plain": [
              "DESC_GROUP_ENGLISH\n",
              "First response              1227941\n",
              "No fire                      434764\n",
              "Fire alarm                   286956\n",
              "Other fires                   67051\n",
              "Building fire                 14593\n",
              "Fire                          12257\n",
              "False alarm/cancellation       5526\n",
              "New                               7\n",
              "Name: count, dtype: int64"
            ],
            "text/html": [
              "<div>\n",
              "<style scoped>\n",
              "    .dataframe tbody tr th:only-of-type {\n",
              "        vertical-align: middle;\n",
              "    }\n",
              "\n",
              "    .dataframe tbody tr th {\n",
              "        vertical-align: top;\n",
              "    }\n",
              "\n",
              "    .dataframe thead th {\n",
              "        text-align: right;\n",
              "    }\n",
              "</style>\n",
              "<table border=\"1\" class=\"dataframe\">\n",
              "  <thead>\n",
              "    <tr style=\"text-align: right;\">\n",
              "      <th></th>\n",
              "      <th>count</th>\n",
              "    </tr>\n",
              "    <tr>\n",
              "      <th>DESC_GROUP_ENGLISH</th>\n",
              "      <th></th>\n",
              "    </tr>\n",
              "  </thead>\n",
              "  <tbody>\n",
              "    <tr>\n",
              "      <th>First response</th>\n",
              "      <td>1227941</td>\n",
              "    </tr>\n",
              "    <tr>\n",
              "      <th>No fire</th>\n",
              "      <td>434764</td>\n",
              "    </tr>\n",
              "    <tr>\n",
              "      <th>Fire alarm</th>\n",
              "      <td>286956</td>\n",
              "    </tr>\n",
              "    <tr>\n",
              "      <th>Other fires</th>\n",
              "      <td>67051</td>\n",
              "    </tr>\n",
              "    <tr>\n",
              "      <th>Building fire</th>\n",
              "      <td>14593</td>\n",
              "    </tr>\n",
              "    <tr>\n",
              "      <th>Fire</th>\n",
              "      <td>12257</td>\n",
              "    </tr>\n",
              "    <tr>\n",
              "      <th>False alarm/cancellation</th>\n",
              "      <td>5526</td>\n",
              "    </tr>\n",
              "    <tr>\n",
              "      <th>New</th>\n",
              "      <td>7</td>\n",
              "    </tr>\n",
              "  </tbody>\n",
              "</table>\n",
              "</div><br><label><b>dtype:</b> int64</label>"
            ]
          },
          "metadata": {},
          "execution_count": 77
        }
      ]
    },
    {
      "cell_type": "code",
      "source": [
        "df_incidents_clean = df_incidents[df_incidents['DESC_GROUP_ENGLISH'].isin(['Fire', 'Building fire', 'Other_fires'])]\n",
        "df_incidents_clean.shape"
      ],
      "metadata": {
        "colab": {
          "base_uri": "https://localhost:8080/"
        },
        "id": "l8Siy40MPlfJ",
        "outputId": "5952d62e-f8ce-4aa2-83a4-45897aad45df"
      },
      "execution_count": 78,
      "outputs": [
        {
          "output_type": "execute_result",
          "data": {
            "text/plain": [
              "(26850, 12)"
            ]
          },
          "metadata": {},
          "execution_count": 78
        }
      ]
    },
    {
      "cell_type": "code",
      "source": [
        "df_incidents_clean['CASERNE'].unique()"
      ],
      "metadata": {
        "colab": {
          "base_uri": "https://localhost:8080/"
        },
        "id": "UZer9DslhP-v",
        "outputId": "2708883d-f440-4fee-d67b-68c5c34f763c"
      },
      "execution_count": 79,
      "outputs": [
        {
          "output_type": "execute_result",
          "data": {
            "text/plain": [
              "array([15, 41, 14, 53, 18, 33,  9, 27, 17, 44, 29, 72, 65, 73, 30, 19, 48,\n",
              "        4, 66, 79, 49, 47, 21, 57, 13, 16, 10, 35, 76, 61, 37,  5, 20, 50,\n",
              "       46, 63, 71, 26, 42, 45, 43, 31, 22, 34, 38, 25, 55, 40, 64, 67,  8,\n",
              "       51, 78, 28, 75, 39, 62, 52, 54, 23, 74,  3, 58, 77, 56, 59, 32])"
            ]
          },
          "metadata": {},
          "execution_count": 79
        }
      ]
    },
    {
      "cell_type": "code",
      "source": [
        "df_incidents_clean['NOM_VILLE'].unique()"
      ],
      "metadata": {
        "colab": {
          "base_uri": "https://localhost:8080/"
        },
        "id": "9QjRTrUZlpTw",
        "outputId": "d33fe7b7-eb82-4f68-a7c2-35bd4717280b"
      },
      "execution_count": 80,
      "outputs": [
        {
          "output_type": "execute_result",
          "data": {
            "text/plain": [
              "array(['Montréal', 'Beaconsfield', 'Montréal-Nord', 'Saint-Laurent',\n",
              "       'Lasalle', 'Verdun / Ïle-des-Soeurs', 'Hampstead', 'Saint-Léonard',\n",
              "       'Pierrefonds ', 'Westmount', 'Dollard-des-Ormeaux', 'Dorval',\n",
              "       'Pointe-Claire', 'Lachine', 'Montréal-Est', 'Ste-Anne-de-Bellevue',\n",
              "       'Côte St-Luc', 'Anjou', 'Outremont', 'Ile-Bizard', \"Baie d'Urfé\",\n",
              "       'Kirkland', 'Mont-Royal', 'Roxboro', 'Montréal-Ouest',\n",
              "       'Ste-Geneviève', 'Senneville', 'Côte-Saint-Luc', \"Baie-d'Urfé\",\n",
              "       'Sainte-Anne-de-Bellevue', \"L'Île-Dorval\"], dtype=object)"
            ]
          },
          "metadata": {},
          "execution_count": 80
        }
      ]
    },
    {
      "cell_type": "code",
      "source": [
        "df_incidents_clean['NOM_ARROND'].unique()"
      ],
      "metadata": {
        "colab": {
          "base_uri": "https://localhost:8080/"
        },
        "outputId": "b5d5485a-c6f5-4f58-b1f0-a3ad440d03b5",
        "id": "fMDqoy2lmadN"
      },
      "execution_count": 81,
      "outputs": [
        {
          "output_type": "execute_result",
          "data": {
            "text/plain": [
              "array(['Sud-Ouest', 'Villeray / St-Michel / Parc Extension',\n",
              "       'Rivière-des-Prairies / P-A-T/Mtl-Est',\n",
              "       \"Beaconsfield / Baie d'Urfé\", 'Montréal-Nord',\n",
              "       'Côte-des-Neiges / Notre-Dame-de-Grâce',\n",
              "       'Rosemont / Petite-Patrie', 'St-Laurent', 'Lasalle',\n",
              "       'Plateau Mont-Royal',\n",
              "       'Ville-Marie / Parc Jean-Drapeau / Centre-Sud',\n",
              "       'Mercier / Hochelaga-Maisonneuve', 'Verdun / Ïle-des-Soeurs',\n",
              "       'Côte St-Luc / Hampstead / Mtl-Ouest', 'Ahuntsic / Cartierville',\n",
              "       'St-Léonard', 'Pierrefonds / Senneville', 'Westmount',\n",
              "       'Dollard-des-Ormeaux / Roxboro', 'Dorval / Ile Dorval',\n",
              "       'Pointe-Claire', 'Lachine',\n",
              "       'Ile-Bizard / Ste-Geneviève / Ste-A-de-B', 'Anjou', 'Outremont',\n",
              "       'Kirkland', 'Mont-Royal', 'Ville-Marie', 'Indéterminé', 'Verdun',\n",
              "       'Saint-Léonard', 'Pierrefonds / Roxboro', 'Saint-Laurent',\n",
              "       'Rivière-des-Prairies / Pointe-aux-Trembles',\n",
              "       \"L'Ile-Bizard / Ste-Geneviève\", 'Le Sud-Ouest',\n",
              "       'Mercier-Hochelaga-Maisonneuve', 'Ahuntsic-Cartierville',\n",
              "       'Le Plateau-Mont-Royal', 'Rosemont-La Petite-Patrie',\n",
              "       'Villeray-Saint-Michel-Parc-Extension',\n",
              "       'Côte-des-Neiges-Notre-Dame-de-Grâce',\n",
              "       'Rivière-des-Prairies-Pointe-aux-Trembles', 'LaSalle',\n",
              "       'Pierrefonds-Roxboro', \"L'Île-Bizard-Sainte-Geneviève\"],\n",
              "      dtype=object)"
            ]
          },
          "metadata": {},
          "execution_count": 81
        }
      ]
    },
    {
      "cell_type": "code",
      "source": [
        "df_incidents_clean['DIVISION'].unique()"
      ],
      "metadata": {
        "colab": {
          "base_uri": "https://localhost:8080/"
        },
        "outputId": "6ecfc442-b67f-4324-aea5-0866def8c5df",
        "id": "Sg3S7KL2m6iX"
      },
      "execution_count": 82,
      "outputs": [
        {
          "output_type": "execute_result",
          "data": {
            "text/plain": [
              "array([15, 20, 25, 12, 21, 17, 22, 13, 14, 18, 23, 11, 10,  8,  9,  3,  7,\n",
              "        4,  5,  1,  6,  2,  0])"
            ]
          },
          "metadata": {},
          "execution_count": 82
        }
      ]
    },
    {
      "cell_type": "code",
      "source": [
        "df_incidents_clean['NOMBRE_UNITES'].unique()"
      ],
      "metadata": {
        "colab": {
          "base_uri": "https://localhost:8080/"
        },
        "outputId": "62c069ad-fd70-4180-e4fe-bbb850d0955f",
        "id": "prl1i--ln65n"
      },
      "execution_count": 83,
      "outputs": [
        {
          "output_type": "execute_result",
          "data": {
            "text/plain": [
              "array([  7.,   8.,   3.,  16.,   1.,  10.,  18.,   6.,   4.,   5.,  12.,\n",
              "        21.,  15.,  14.,  98.,   9.,  32.,   2.,  20.,  31.,  19.,  39.,\n",
              "        42.,  11.,  23.,  51.,  70.,  35.,  46.,  34.,  13.,  38.,  17.,\n",
              "        40.,  36.,  41.,  29.,  22.,  56.,  64.,  44.,  89.,  28.,  27.,\n",
              "        62.,  24.,  52.,  37.,  33.,  43., 100.,  30.,  45.,  80.,  71.,\n",
              "        91.,  50.,  48.,  79.,  25.,  55.,  57.,  68.,  66.,  49.,  53.,\n",
              "        77.,  67.,  87.,  92.,  88.,  95.,  26.,  63., 104.,  60.,  73.,\n",
              "        47.,  90.,  81.,  69., 118.,  61.,  75.,  65., 132.,  54.,  58.,\n",
              "       107., 135.,  96., 148.,  85., 275.,  78., 123., 119.,  59.,  83.,\n",
              "        93.,  86., 102.,  76., 117.,  74.,  72.,  94., 163., 126., 120.,\n",
              "       106., 130., 153.,  82.,  84., 115., 127., 108., 160., 101., 199.,\n",
              "       103., 244., 105., 172.])"
            ]
          },
          "metadata": {},
          "execution_count": 83
        }
      ]
    },
    {
      "cell_type": "code",
      "source": [
        "df_incidents_clean.to_csv('incidents-clean.csv')"
      ],
      "metadata": {
        "id": "ZROfEpZvQAqj"
      },
      "execution_count": 84,
      "outputs": []
    }
  ]
}