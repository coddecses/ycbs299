{
 "cells": [
  {
   "cell_type": "code",
   "execution_count": 5,
   "id": "initial_id",
   "metadata": {
    "collapsed": true,
    "ExecuteTime": {
     "end_time": "2025-02-11T14:55:59.862799900Z",
     "start_time": "2025-02-11T14:55:59.847062900Z"
    }
   },
   "outputs": [],
   "source": [
    "import pandas as pd\n",
    "import numpy as np\n",
    "\n",
    "import matplotlib.pyplot as plt\n",
    "from io import StringIO\n",
    "from scipy.stats import chi2_contingency"
   ]
  },
  {
   "cell_type": "code",
   "execution_count": 6,
   "outputs": [
    {
     "name": "stdout",
     "output_type": "stream",
     "text": [
      "Contingency Table:\n",
      "hydrant_level   high    low\n",
      "severity                   \n",
      "high           14786  12757\n",
      "low            38314  27871\n",
      "\n",
      "Chi-square Statistic: 139.9299869961605\n",
      "p-value: 2.757553807548808e-32\n",
      "\n",
      "Phi Correlation: -0.03866217290267845\n"
     ]
    }
   ],
   "source": [
    "# Read the CSV data from the string.\n",
    "df = pd.read_csv('nb_count_fire_hydrant_by_caserne.csv')\n",
    "\n",
    "# Read data into DataFrame\n",
    "df[\"CREATION_DATE\"] = pd.to_datetime(df[\"CREATION_DATE\"])\n",
    "\n",
    "# Define thresholds (these should be based on domain knowledge or data distribution)\n",
    "threshold_units = 4         # For example, more than 4 units is considered \"high severity\"\n",
    "threshold_hydrant = 400     # For nb_fire_hydrant, assume >400 is \"high\"\n",
    "\n",
    "# Create binary categorical variables\n",
    "df[\"severity\"] = np.where(df[\"NOMBRE_UNITES\"] > threshold_units, \"high\", \"low\")\n",
    "df[\"hydrant_level\"] = np.where(df[\"nb_fire_hydrant\"] > threshold_hydrant, \"high\", \"low\")\n",
    "\n",
    "# Build the contingency table\n",
    "ct = pd.crosstab(df[\"severity\"], df[\"hydrant_level\"])\n",
    "print(\"Contingency Table:\")\n",
    "print(ct)\n",
    "\n",
    "# Perform Chi-square test for independence\n",
    "chi2, p, dof, expected = chi2_contingency(ct)\n",
    "print(\"\\nChi-square Statistic:\", chi2)\n",
    "print(\"p-value:\", p)\n",
    "\n",
    "# For binary variables, you can also compute the phi coefficient:\n",
    "# Convert categories to binary numeric (high=1, low=0)\n",
    "df[\"severity_bin\"] = np.where(df[\"severity\"]==\"high\", 1, 0)\n",
    "df[\"hydrant_bin\"] = np.where(df[\"hydrant_level\"]==\"high\", 1, 0)\n",
    "phi_corr = df[\"severity_bin\"].corr(df[\"hydrant_bin\"])\n",
    "print(\"\\nPhi Correlation:\", phi_corr)"
   ],
   "metadata": {
    "collapsed": false,
    "ExecuteTime": {
     "end_time": "2025-02-11T14:56:03.048974600Z",
     "start_time": "2025-02-11T14:56:02.804214600Z"
    }
   },
   "id": "5e29490c8b9b37c0"
  },
  {
   "cell_type": "code",
   "execution_count": null,
   "outputs": [],
   "source": [],
   "metadata": {
    "collapsed": false
   },
   "id": "50bdcd8c53fd1e07"
  }
 ],
 "metadata": {
  "kernelspec": {
   "display_name": "Python 3",
   "language": "python",
   "name": "python3"
  },
  "language_info": {
   "codemirror_mode": {
    "name": "ipython",
    "version": 2
   },
   "file_extension": ".py",
   "mimetype": "text/x-python",
   "name": "python",
   "nbconvert_exporter": "python",
   "pygments_lexer": "ipython2",
   "version": "2.7.6"
  }
 },
 "nbformat": 4,
 "nbformat_minor": 5
}
