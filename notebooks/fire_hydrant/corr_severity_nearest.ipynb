{
 "cells": [
  {
   "cell_type": "code",
   "execution_count": 3,
   "id": "initial_id",
   "metadata": {
    "collapsed": true,
    "ExecuteTime": {
     "end_time": "2025-02-11T15:18:48.893136400Z",
     "start_time": "2025-02-11T15:18:48.880975600Z"
    }
   },
   "outputs": [],
   "source": [
    "import pandas as pd\n",
    "import numpy as np\n",
    "import json\n",
    "\n",
    "from geopy.distance import geodesic\n",
    "\n",
    "import matplotlib.pyplot as plt\n",
    "from io import StringIO\n",
    "from scipy.stats import chi2_contingency"
   ]
  },
  {
   "cell_type": "code",
   "execution_count": 5,
   "outputs": [
    {
     "name": "stdout",
     "output_type": "stream",
     "text": [
      "Index(['INCIDENT_NBR', 'INCIDENT_TYPE_DESC', 'DESCRIPTION_GROUPE', 'CASERNE',\n",
      "       'DIVISION', 'NOMBRE_UNITES', 'Incident', 'ID_BI', 'ID_POINT',\n",
      "       'fire_hydrant', 'FindNearestRank', 'DistanceMiles', 'Direction'],\n",
      "      dtype='object')\n",
      "Contingency Table:\n",
      "hydrant_cat    high    low\n",
      "severity_cat              \n",
      "high          11361  16201\n",
      "low           27348  38891\n",
      "\n",
      "Chi-square Statistic: 0.03339857695114255\n",
      "p-value: 0.8549920041552147\n",
      "\n",
      "Phi Correlation: -0.0006204750061672008\n"
     ]
    }
   ],
   "source": [
    "# Load your dataset (adjust the file path as needed)\n",
    "df = pd.read_csv(\"incident_nearest_fire_hydrant.csv\")\n",
    "\n",
    "# Check the columns in your dataset\n",
    "print(df.columns)\n",
    "\n",
    "# Define a function to parse the JSON string from the \"Incident\" and \"fire_hydrant\" columns.\n",
    "def parse_coords(json_str):\n",
    "    # Parse the JSON string to a Python dictionary.\n",
    "    d = json.loads(json_str)\n",
    "    # The coordinates in the JSON are in the form [longitude, latitude]\n",
    "    lon, lat = d[\"coordinates\"]\n",
    "    # Return a tuple in the order (latitude, longitude) as required by geopy.\n",
    "    return (lat, lon)\n",
    "\n",
    "# Create new columns with parsed coordinates.\n",
    "df[\"incident_coord\"] = df[\"Incident\"].apply(parse_coords)\n",
    "df[\"hydrant_coord\"] = df[\"fire_hydrant\"].apply(parse_coords)\n",
    "\n",
    "# Compute the distance (in miles) between the incident and the nearest hydrant.\n",
    "def compute_distance(row):\n",
    "    return geodesic(row[\"incident_coord\"], row[\"hydrant_coord\"]).miles\n",
    "\n",
    "df[\"computed_distance_miles\"] = df.apply(compute_distance, axis=1)\n",
    "\n",
    "# For analysis, define binary categories:\n",
    "# (a) Severity: assume \"high\" severity if NOMBRE_UNITES is greater than or equal to a chosen threshold.\n",
    "threshold_units = 5  # example threshold; adjust based on data distribution\n",
    "df[\"severity_cat\"] = np.where(df[\"NOMBRE_UNITES\"] >= threshold_units, \"high\", \"low\")\n",
    "\n",
    "# (b) Hydrant accessibility:\n",
    "# Here we assume that a \"high\" value in computed_distance means the nearest hydrant is farther away,\n",
    "# which can be interpreted as lower local hydrant coverage (i.e. less accessible).\n",
    "threshold_distance = 0.02  # example threshold in miles; adjust as needed\n",
    "df[\"hydrant_cat\"] = np.where(df[\"computed_distance_miles\"] > threshold_distance, \"high\", \"low\")\n",
    "\n",
    "# Build a contingency table between severity and hydrant category.\n",
    "ct = pd.crosstab(df[\"severity_cat\"], df[\"hydrant_cat\"])\n",
    "print(\"Contingency Table:\")\n",
    "print(ct)\n",
    "\n",
    "# Perform a chi-square test for independence.\n",
    "chi2, p, dof, expected = chi2_contingency(ct)\n",
    "print(\"\\nChi-square Statistic:\", chi2)\n",
    "print(\"p-value:\", p)\n",
    "\n",
    "# For a binary association measure, convert categories to binary numeric variables (high = 1, low = 0).\n",
    "df[\"severity_bin\"] = np.where(df[\"severity_cat\"] == \"high\", 1, 0)\n",
    "df[\"hydrant_bin\"] = np.where(df[\"hydrant_cat\"] == \"high\", 1, 0)\n",
    "\n",
    "# Compute the phi coefficient (a correlation measure for two binary variables).\n",
    "phi_corr = df[\"severity_bin\"].corr(df[\"hydrant_bin\"])\n",
    "print(\"\\nPhi Correlation:\", phi_corr)"
   ],
   "metadata": {
    "collapsed": false,
    "ExecuteTime": {
     "end_time": "2025-02-11T15:19:20.347793100Z",
     "start_time": "2025-02-11T15:19:05.445353300Z"
    }
   },
   "id": "5e29490c8b9b37c0"
  },
  {
   "cell_type": "code",
   "execution_count": null,
   "outputs": [],
   "source": [],
   "metadata": {
    "collapsed": false
   },
   "id": "50bdcd8c53fd1e07"
  }
 ],
 "metadata": {
  "kernelspec": {
   "display_name": "Python 3",
   "language": "python",
   "name": "python3"
  },
  "language_info": {
   "codemirror_mode": {
    "name": "ipython",
    "version": 2
   },
   "file_extension": ".py",
   "mimetype": "text/x-python",
   "name": "python",
   "nbconvert_exporter": "python",
   "pygments_lexer": "ipython2",
   "version": "2.7.6"
  }
 },
 "nbformat": 4,
 "nbformat_minor": 5
}
