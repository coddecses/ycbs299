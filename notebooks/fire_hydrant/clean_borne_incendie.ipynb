{
 "cells": [
  {
   "cell_type": "code",
   "execution_count": 22,
   "id": "initial_id",
   "metadata": {
    "collapsed": true,
    "ExecuteTime": {
     "end_time": "2025-02-11T10:28:55.719631Z",
     "start_time": "2025-02-11T10:28:55.694668500Z"
    }
   },
   "outputs": [],
   "source": [
    "import pandas as pd"
   ]
  },
  {
   "cell_type": "code",
   "execution_count": 23,
   "outputs": [],
   "source": [
    "# Load the dataset\n",
    "file_path = \"aqu_borneincendie_p.csv\"\n",
    "df = pd.read_csv(file_path)"
   ],
   "metadata": {
    "collapsed": false,
    "ExecuteTime": {
     "end_time": "2025-02-11T10:28:58.093864400Z",
     "start_time": "2025-02-11T10:28:57.904350Z"
    }
   },
   "id": "4dce247de9907b33"
  },
  {
   "cell_type": "code",
   "execution_count": 24,
   "outputs": [
    {
     "data": {
      "text/plain": "                             ADRESSE                    ADRESSE_R_M  \\\n0              430 rue de Bonsecours  Cartographie géomatique ville   \n1   88 boulevard René-Lévesque Ouest  Cartographie géomatique ville   \n2  1110-1116 boulevard Saint-Laurent  Cartographie géomatique ville   \n3       160 chemin du Tour-de-l'Isle  Cartographie géomatique ville   \n4          1316 boulevard Mont-Royal  Cartographie géomatique ville   \n\n   COORDONNEE_SPATIALE_X  COORDONNEE_SPATIALE_Y  DATE_ABANDON  \\\n0             300735.516            5041116.762           NaN   \n1             299926.983            5040845.130           NaN   \n2             299979.900            5040977.088           NaN   \n3             302614.124            5041650.945           NaN   \n4             296744.791            5041332.756           NaN   \n\n  DATE_ABANDON_R_M  DATE_INSTALLATION     DATE_INSTALLATION_R_M  \\\n0   Non applicable           19670101  Plan Atlas et inventaire   \n1   Non applicable           19830101  Plan Atlas et inventaire   \n2   Non applicable           19540101  Plan Atlas et inventaire   \n3   Non applicable           19980101  Plan Atlas et inventaire   \n4   Non applicable           19100101  Plan Atlas et inventaire   \n\n   ELEVATION_TERRAIN    ID_BI  ...  PRECISION_DATE_INSTALL_R_M  \\\n0             25.684  5020413  ...    Plan Atlas et inventaire   \n1             23.224  5020476  ...    Plan Atlas et inventaire   \n2             24.602  5020477  ...    Plan Atlas et inventaire   \n3             14.870  5020692  ...    Plan Atlas et inventaire   \n4            126.041  5020735  ...    Plan Atlas et inventaire   \n\n        PROPRIETAIRE               PROPRIETAIRE_R_M         PROVENANCE_DONNEE  \\\n0  VILLE DE MONTREAL  Cartographie géomatique ville    RELEVE TERRAIN INTERNE   \n1  VILLE DE MONTREAL  Cartographie géomatique ville    RELEVE TERRAIN INTERNE   \n2  VILLE DE MONTREAL  Cartographie géomatique ville    RELEVE TERRAIN INTERNE   \n3  VILLE DE MONTREAL  Cartographie géomatique ville  RELEVE PHOTOGRAMMETRIQUE   \n4  VILLE DE MONTREAL  Cartographie géomatique ville  RELEVE PHOTOGRAMMETRIQUE   \n\n  STATUT_ACTIF STATUT_ACTIF_R_M   LATITUDE  LONGITUDE ABANDONNE_R  \\\n0     EXISTANT      Plan profil  45.509968 -73.552019         NON   \n1     EXISTANT      Plan profil  45.507518 -73.562364         NON   \n2     EXISTANT      Plan profil  45.508706 -73.561688         NON   \n3     EXISTANT      Plan profil  45.514783 -73.527979         NON   \n4     EXISTANT      Plan profil  45.511876 -73.603096         NON   \n\n    ABANDONNE_R_M  \n0  Non applicable  \n1  Non applicable  \n2  Non applicable  \n3  Non applicable  \n4  Non applicable  \n\n[5 rows x 24 columns]",
      "text/html": "<div>\n<style scoped>\n    .dataframe tbody tr th:only-of-type {\n        vertical-align: middle;\n    }\n\n    .dataframe tbody tr th {\n        vertical-align: top;\n    }\n\n    .dataframe thead th {\n        text-align: right;\n    }\n</style>\n<table border=\"1\" class=\"dataframe\">\n  <thead>\n    <tr style=\"text-align: right;\">\n      <th></th>\n      <th>ADRESSE</th>\n      <th>ADRESSE_R_M</th>\n      <th>COORDONNEE_SPATIALE_X</th>\n      <th>COORDONNEE_SPATIALE_Y</th>\n      <th>DATE_ABANDON</th>\n      <th>DATE_ABANDON_R_M</th>\n      <th>DATE_INSTALLATION</th>\n      <th>DATE_INSTALLATION_R_M</th>\n      <th>ELEVATION_TERRAIN</th>\n      <th>ID_BI</th>\n      <th>...</th>\n      <th>PRECISION_DATE_INSTALL_R_M</th>\n      <th>PROPRIETAIRE</th>\n      <th>PROPRIETAIRE_R_M</th>\n      <th>PROVENANCE_DONNEE</th>\n      <th>STATUT_ACTIF</th>\n      <th>STATUT_ACTIF_R_M</th>\n      <th>LATITUDE</th>\n      <th>LONGITUDE</th>\n      <th>ABANDONNE_R</th>\n      <th>ABANDONNE_R_M</th>\n    </tr>\n  </thead>\n  <tbody>\n    <tr>\n      <th>0</th>\n      <td>430 rue de Bonsecours</td>\n      <td>Cartographie géomatique ville</td>\n      <td>300735.516</td>\n      <td>5041116.762</td>\n      <td>NaN</td>\n      <td>Non applicable</td>\n      <td>19670101</td>\n      <td>Plan Atlas et inventaire</td>\n      <td>25.684</td>\n      <td>5020413</td>\n      <td>...</td>\n      <td>Plan Atlas et inventaire</td>\n      <td>VILLE DE MONTREAL</td>\n      <td>Cartographie géomatique ville</td>\n      <td>RELEVE TERRAIN INTERNE</td>\n      <td>EXISTANT</td>\n      <td>Plan profil</td>\n      <td>45.509968</td>\n      <td>-73.552019</td>\n      <td>NON</td>\n      <td>Non applicable</td>\n    </tr>\n    <tr>\n      <th>1</th>\n      <td>88 boulevard René-Lévesque Ouest</td>\n      <td>Cartographie géomatique ville</td>\n      <td>299926.983</td>\n      <td>5040845.130</td>\n      <td>NaN</td>\n      <td>Non applicable</td>\n      <td>19830101</td>\n      <td>Plan Atlas et inventaire</td>\n      <td>23.224</td>\n      <td>5020476</td>\n      <td>...</td>\n      <td>Plan Atlas et inventaire</td>\n      <td>VILLE DE MONTREAL</td>\n      <td>Cartographie géomatique ville</td>\n      <td>RELEVE TERRAIN INTERNE</td>\n      <td>EXISTANT</td>\n      <td>Plan profil</td>\n      <td>45.507518</td>\n      <td>-73.562364</td>\n      <td>NON</td>\n      <td>Non applicable</td>\n    </tr>\n    <tr>\n      <th>2</th>\n      <td>1110-1116 boulevard Saint-Laurent</td>\n      <td>Cartographie géomatique ville</td>\n      <td>299979.900</td>\n      <td>5040977.088</td>\n      <td>NaN</td>\n      <td>Non applicable</td>\n      <td>19540101</td>\n      <td>Plan Atlas et inventaire</td>\n      <td>24.602</td>\n      <td>5020477</td>\n      <td>...</td>\n      <td>Plan Atlas et inventaire</td>\n      <td>VILLE DE MONTREAL</td>\n      <td>Cartographie géomatique ville</td>\n      <td>RELEVE TERRAIN INTERNE</td>\n      <td>EXISTANT</td>\n      <td>Plan profil</td>\n      <td>45.508706</td>\n      <td>-73.561688</td>\n      <td>NON</td>\n      <td>Non applicable</td>\n    </tr>\n    <tr>\n      <th>3</th>\n      <td>160 chemin du Tour-de-l'Isle</td>\n      <td>Cartographie géomatique ville</td>\n      <td>302614.124</td>\n      <td>5041650.945</td>\n      <td>NaN</td>\n      <td>Non applicable</td>\n      <td>19980101</td>\n      <td>Plan Atlas et inventaire</td>\n      <td>14.870</td>\n      <td>5020692</td>\n      <td>...</td>\n      <td>Plan Atlas et inventaire</td>\n      <td>VILLE DE MONTREAL</td>\n      <td>Cartographie géomatique ville</td>\n      <td>RELEVE PHOTOGRAMMETRIQUE</td>\n      <td>EXISTANT</td>\n      <td>Plan profil</td>\n      <td>45.514783</td>\n      <td>-73.527979</td>\n      <td>NON</td>\n      <td>Non applicable</td>\n    </tr>\n    <tr>\n      <th>4</th>\n      <td>1316 boulevard Mont-Royal</td>\n      <td>Cartographie géomatique ville</td>\n      <td>296744.791</td>\n      <td>5041332.756</td>\n      <td>NaN</td>\n      <td>Non applicable</td>\n      <td>19100101</td>\n      <td>Plan Atlas et inventaire</td>\n      <td>126.041</td>\n      <td>5020735</td>\n      <td>...</td>\n      <td>Plan Atlas et inventaire</td>\n      <td>VILLE DE MONTREAL</td>\n      <td>Cartographie géomatique ville</td>\n      <td>RELEVE PHOTOGRAMMETRIQUE</td>\n      <td>EXISTANT</td>\n      <td>Plan profil</td>\n      <td>45.511876</td>\n      <td>-73.603096</td>\n      <td>NON</td>\n      <td>Non applicable</td>\n    </tr>\n  </tbody>\n</table>\n<p>5 rows × 24 columns</p>\n</div>"
     },
     "execution_count": 24,
     "metadata": {},
     "output_type": "execute_result"
    }
   ],
   "source": [
    "df.head()"
   ],
   "metadata": {
    "collapsed": false,
    "ExecuteTime": {
     "end_time": "2025-02-11T10:29:00.433227300Z",
     "start_time": "2025-02-11T10:29:00.390185600Z"
    }
   },
   "id": "b1496a1dfbe5b5c7"
  },
  {
   "cell_type": "code",
   "execution_count": 25,
   "outputs": [],
   "source": [
    "# Drop rows where STATUT_ACTIF is \"ABANDONNE\"\n",
    "df = df[df[\"STATUT_ACTIF\"] != \"ABANDONNE\"]"
   ],
   "metadata": {
    "collapsed": false,
    "ExecuteTime": {
     "end_time": "2025-02-11T10:29:03.063436300Z",
     "start_time": "2025-02-11T10:29:03.029086900Z"
    }
   },
   "id": "10f46954b233e657"
  },
  {
   "cell_type": "code",
   "execution_count": 26,
   "outputs": [],
   "source": [
    "# Drop redundant columns (_R_M versions) and additional columns\n",
    "columns_to_drop = [col for col in df.columns if col.endswith(\"_R_M\")] + [\"DATE_INSTALLATION\", \"DATE_ABANDON\", \"STATUT_ACTIF\", \"ABANDONNE_R\"]\n",
    "df_cleaned = df.drop(columns=columns_to_drop)"
   ],
   "metadata": {
    "collapsed": false,
    "ExecuteTime": {
     "end_time": "2025-02-11T10:29:08.556738700Z",
     "start_time": "2025-02-11T10:29:08.534241700Z"
    }
   },
   "id": "dccf932b89a1c541"
  },
  {
   "cell_type": "code",
   "execution_count": 27,
   "outputs": [
    {
     "data": {
      "text/plain": "                             ADRESSE  COORDONNEE_SPATIALE_X  \\\n0              430 rue de Bonsecours             300735.516   \n1   88 boulevard René-Lévesque Ouest             299926.983   \n2  1110-1116 boulevard Saint-Laurent             299979.900   \n3       160 chemin du Tour-de-l'Isle             302614.124   \n4          1316 boulevard Mont-Royal             296744.791   \n\n   COORDONNEE_SPATIALE_Y  ELEVATION_TERRAIN    ID_BI  ID_POINT JURIDICTION  \\\n0            5041116.762             25.684  5020413   5262933      LOCALE   \n1            5040845.130             23.224  5020476   5262996      LOCALE   \n2            5040977.088             24.602  5020477   5262997      LOCALE   \n3            5041650.945             14.870  5020692   5267508      LOCALE   \n4            5041332.756            126.041  5020735   5268022      LOCALE   \n\n                    PRECISION_DATE_INSTALL       PROPRIETAIRE  \\\n0  DATE INSTALLATION DANS L'ANNEE COURANTE  VILLE DE MONTREAL   \n1  DATE INSTALLATION DANS L'ANNEE COURANTE  VILLE DE MONTREAL   \n2  DATE INSTALLATION DANS L'ANNEE COURANTE  VILLE DE MONTREAL   \n3  DATE INSTALLATION DANS L'ANNEE COURANTE  VILLE DE MONTREAL   \n4  DATE INSTALLATION DANS L'ANNEE COURANTE  VILLE DE MONTREAL   \n\n          PROVENANCE_DONNEE   LATITUDE  LONGITUDE  \n0    RELEVE TERRAIN INTERNE  45.509968 -73.552019  \n1    RELEVE TERRAIN INTERNE  45.507518 -73.562364  \n2    RELEVE TERRAIN INTERNE  45.508706 -73.561688  \n3  RELEVE PHOTOGRAMMETRIQUE  45.514783 -73.527979  \n4  RELEVE PHOTOGRAMMETRIQUE  45.511876 -73.603096  ",
      "text/html": "<div>\n<style scoped>\n    .dataframe tbody tr th:only-of-type {\n        vertical-align: middle;\n    }\n\n    .dataframe tbody tr th {\n        vertical-align: top;\n    }\n\n    .dataframe thead th {\n        text-align: right;\n    }\n</style>\n<table border=\"1\" class=\"dataframe\">\n  <thead>\n    <tr style=\"text-align: right;\">\n      <th></th>\n      <th>ADRESSE</th>\n      <th>COORDONNEE_SPATIALE_X</th>\n      <th>COORDONNEE_SPATIALE_Y</th>\n      <th>ELEVATION_TERRAIN</th>\n      <th>ID_BI</th>\n      <th>ID_POINT</th>\n      <th>JURIDICTION</th>\n      <th>PRECISION_DATE_INSTALL</th>\n      <th>PROPRIETAIRE</th>\n      <th>PROVENANCE_DONNEE</th>\n      <th>LATITUDE</th>\n      <th>LONGITUDE</th>\n    </tr>\n  </thead>\n  <tbody>\n    <tr>\n      <th>0</th>\n      <td>430 rue de Bonsecours</td>\n      <td>300735.516</td>\n      <td>5041116.762</td>\n      <td>25.684</td>\n      <td>5020413</td>\n      <td>5262933</td>\n      <td>LOCALE</td>\n      <td>DATE INSTALLATION DANS L'ANNEE COURANTE</td>\n      <td>VILLE DE MONTREAL</td>\n      <td>RELEVE TERRAIN INTERNE</td>\n      <td>45.509968</td>\n      <td>-73.552019</td>\n    </tr>\n    <tr>\n      <th>1</th>\n      <td>88 boulevard René-Lévesque Ouest</td>\n      <td>299926.983</td>\n      <td>5040845.130</td>\n      <td>23.224</td>\n      <td>5020476</td>\n      <td>5262996</td>\n      <td>LOCALE</td>\n      <td>DATE INSTALLATION DANS L'ANNEE COURANTE</td>\n      <td>VILLE DE MONTREAL</td>\n      <td>RELEVE TERRAIN INTERNE</td>\n      <td>45.507518</td>\n      <td>-73.562364</td>\n    </tr>\n    <tr>\n      <th>2</th>\n      <td>1110-1116 boulevard Saint-Laurent</td>\n      <td>299979.900</td>\n      <td>5040977.088</td>\n      <td>24.602</td>\n      <td>5020477</td>\n      <td>5262997</td>\n      <td>LOCALE</td>\n      <td>DATE INSTALLATION DANS L'ANNEE COURANTE</td>\n      <td>VILLE DE MONTREAL</td>\n      <td>RELEVE TERRAIN INTERNE</td>\n      <td>45.508706</td>\n      <td>-73.561688</td>\n    </tr>\n    <tr>\n      <th>3</th>\n      <td>160 chemin du Tour-de-l'Isle</td>\n      <td>302614.124</td>\n      <td>5041650.945</td>\n      <td>14.870</td>\n      <td>5020692</td>\n      <td>5267508</td>\n      <td>LOCALE</td>\n      <td>DATE INSTALLATION DANS L'ANNEE COURANTE</td>\n      <td>VILLE DE MONTREAL</td>\n      <td>RELEVE PHOTOGRAMMETRIQUE</td>\n      <td>45.514783</td>\n      <td>-73.527979</td>\n    </tr>\n    <tr>\n      <th>4</th>\n      <td>1316 boulevard Mont-Royal</td>\n      <td>296744.791</td>\n      <td>5041332.756</td>\n      <td>126.041</td>\n      <td>5020735</td>\n      <td>5268022</td>\n      <td>LOCALE</td>\n      <td>DATE INSTALLATION DANS L'ANNEE COURANTE</td>\n      <td>VILLE DE MONTREAL</td>\n      <td>RELEVE PHOTOGRAMMETRIQUE</td>\n      <td>45.511876</td>\n      <td>-73.603096</td>\n    </tr>\n  </tbody>\n</table>\n</div>"
     },
     "execution_count": 27,
     "metadata": {},
     "output_type": "execute_result"
    }
   ],
   "source": [
    "df_cleaned.head()"
   ],
   "metadata": {
    "collapsed": false,
    "ExecuteTime": {
     "end_time": "2025-02-11T10:29:10.764685700Z",
     "start_time": "2025-02-11T10:29:10.740381600Z"
    }
   },
   "id": "fbceabea52925736"
  },
  {
   "cell_type": "code",
   "execution_count": 28,
   "outputs": [],
   "source": [
    "# Standardize categorical text columns\n",
    "categorical_columns = [\"PROPRIETAIRE\", \"JURIDICTION\", \"PROVENANCE_DONNEE\"]\n",
    "for col in categorical_columns:\n",
    "    df_cleaned[col] = df_cleaned[col].astype(str).str.strip().str.upper()"
   ],
   "metadata": {
    "collapsed": false,
    "ExecuteTime": {
     "end_time": "2025-02-11T10:29:14.131847100Z",
     "start_time": "2025-02-11T10:29:14.074300300Z"
    }
   },
   "id": "14e5b4c4dd1d02bf"
  },
  {
   "cell_type": "code",
   "execution_count": 29,
   "outputs": [],
   "source": [
    "# Remove rows with invalid latitude/longitude values\n",
    "df_cleaned = df_cleaned[\n",
    "    (df_cleaned[\"LATITUDE\"].between(-90, 90)) & (df_cleaned[\"LONGITUDE\"].between(-180, 180))\n",
    "    ]"
   ],
   "metadata": {
    "collapsed": false,
    "ExecuteTime": {
     "end_time": "2025-02-11T10:29:23.667433400Z",
     "start_time": "2025-02-11T10:29:23.637881700Z"
    }
   },
   "id": "3951539d7d144658"
  },
  {
   "cell_type": "code",
   "execution_count": 30,
   "outputs": [
    {
     "data": {
      "text/plain": "374592"
     },
     "execution_count": 30,
     "metadata": {},
     "output_type": "execute_result"
    }
   ],
   "source": [
    "# Fill missing ADRESSE values with 'UNKNOWN'\n",
    "df_cleaned[\"ADRESSE\"].fillna(\"UNKNOWN\", inplace=True)\n",
    "df_cleaned.size"
   ],
   "metadata": {
    "collapsed": false,
    "ExecuteTime": {
     "end_time": "2025-02-11T10:29:26.548892Z",
     "start_time": "2025-02-11T10:29:26.522768Z"
    }
   },
   "id": "30219d8fec5d537c"
  },
  {
   "cell_type": "code",
   "execution_count": 31,
   "outputs": [],
   "source": [
    "# Save the cleaned dataset\n",
    "df_cleaned.to_csv(\"cleaned_borne_incendie.csv\", index=False)"
   ],
   "metadata": {
    "collapsed": false,
    "ExecuteTime": {
     "end_time": "2025-02-11T10:29:29.939669700Z",
     "start_time": "2025-02-11T10:29:29.585107800Z"
    }
   },
   "id": "ddeda4905e277145"
  }
 ],
 "metadata": {
  "kernelspec": {
   "display_name": "Python 3",
   "language": "python",
   "name": "python3"
  },
  "language_info": {
   "codemirror_mode": {
    "name": "ipython",
    "version": 2
   },
   "file_extension": ".py",
   "mimetype": "text/x-python",
   "name": "python",
   "nbconvert_exporter": "python",
   "pygments_lexer": "ipython2",
   "version": "2.7.6"
  }
 },
 "nbformat": 4,
 "nbformat_minor": 5
}
