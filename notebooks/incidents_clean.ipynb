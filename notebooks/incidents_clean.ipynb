{
  "nbformat": 4,
  "nbformat_minor": 0,
  "metadata": {
    "colab": {
      "provenance": []
    },
    "kernelspec": {
      "name": "python3",
      "display_name": "Python 3"
    },
    "language_info": {
      "name": "python"
    }
  },
  "cells": [
    {
      "cell_type": "code",
      "source": [
        "pip install legacy-cgi googletrans==3.1.0a0"
      ],
      "metadata": {
        "id": "_xq97lOlIvNX"
      },
      "execution_count": null,
      "outputs": []
    },
    {
      "cell_type": "code",
      "execution_count": 25,
      "metadata": {
        "id": "RrS-gGguIotj"
      },
      "outputs": [],
      "source": [
        "import os\n",
        "import pandas as pd\n",
        "from googletrans import Translator"
      ]
    },
    {
      "cell_type": "code",
      "source": [
        "os.listdir()"
      ],
      "metadata": {
        "colab": {
          "base_uri": "https://localhost:8080/"
        },
        "id": "lvmQUWhaKpyE",
        "outputId": "640b9146-5740-4d5a-adb5-1234b42dc702"
      },
      "execution_count": 26,
      "outputs": [
        {
          "output_type": "execute_result",
          "data": {
            "text/plain": [
              "['.config',\n",
              " 'donneesouvertes-interventions-sim-2005-2014.csv',\n",
              " 'incidents-clean.csv',\n",
              " 'type-interventions-descriptions20161122.csv',\n",
              " 'donneesouvertes-interventions-sim_2015_2022.csv',\n",
              " 'donneesouvertes-interventions-sim.csv',\n",
              " 'donneesouvertes-interventions-sim2020.csv',\n",
              " 'sample_data']"
            ]
          },
          "metadata": {},
          "execution_count": 26
        }
      ]
    },
    {
      "cell_type": "code",
      "source": [
        "df_2005_2014 = pd.read_csv('donneesouvertes-interventions-sim-2005-2014.csv')\n",
        "df_2015_2022 = pd.read_csv('donneesouvertes-interventions-sim_2015_2022.csv').drop(columns=['MTM8_X', 'MTM8_Y'])\n",
        "df_2020_2023 = pd.read_csv('donneesouvertes-interventions-sim2020.csv').drop(columns=['MTM8_X', 'MTM8_Y'])\n",
        "df_2024_2025 = pd.read_csv('donneesouvertes-interventions-sim.csv').drop(columns=['MTM8_X', 'MTM8_Y'])"
      ],
      "metadata": {
        "id": "Emz2NDyNKrvF"
      },
      "execution_count": 27,
      "outputs": []
    },
    {
      "cell_type": "code",
      "source": [
        "df_2005_2014['CREATION_DATE_TIME'] = pd.to_datetime(df_2005_2014['CREATION_DATE_TIME'], format='ISO8601').dt.strftime('%Y-%m-%d')\n",
        "df_2015_2022['CREATION_DATE_TIME'] = pd.to_datetime(df_2015_2022['CREATION_DATE_TIME'], format='ISO8601').dt.strftime('%Y-%m-%d')\n",
        "df_2020_2023['CREATION_DATE_TIME'] = pd.to_datetime(df_2020_2023['CREATION_DATE_TIME'], format='ISO8601').dt.strftime('%Y-%m-%d')\n",
        "df_2024_2025['CREATION_DATE_TIME'] = pd.to_datetime(df_2024_2025['CREATION_DATE_TIME'], format='ISO8601').dt.strftime('%Y-%m-%d')"
      ],
      "metadata": {
        "id": "jBvuECU5UZSx"
      },
      "execution_count": 28,
      "outputs": []
    },
    {
      "cell_type": "code",
      "source": [
        "df_incidents = pd.concat([df_2005_2014, df_2015_2022, df_2020_2023, df_2024_2025], ignore_index=True)\n",
        "df_incidents.rename(columns={'CREATION_DATE_TIME': 'CREATION_DATE'}, inplace=True)\n",
        "df_incidents.drop_duplicates(subset=['INCIDENT_NBR', 'CREATION_DATE'], inplace=True)\n",
        "df_incidents.shape"
      ],
      "metadata": {
        "colab": {
          "base_uri": "https://localhost:8080/"
        },
        "id": "4jJlzkPfK0yD",
        "outputId": "d3f924d5-84b9-42bd-d820-e92860348738"
      },
      "execution_count": 29,
      "outputs": [
        {
          "output_type": "execute_result",
          "data": {
            "text/plain": [
              "(2050879, 11)"
            ]
          },
          "metadata": {},
          "execution_count": 29
        }
      ]
    },
    {
      "cell_type": "code",
      "source": [
        "df_incidents.sort_values(by=['CREATION_DATE','INCIDENT_NBR'], inplace=True)\n",
        "df_incidents.head()"
      ],
      "metadata": {
        "colab": {
          "base_uri": "https://localhost:8080/",
          "height": 206
        },
        "id": "kuQeRr41jT4s",
        "outputId": "5aa83e91-7c38-4525-cfab-4e7719308381"
      },
      "execution_count": 30,
      "outputs": [
        {
          "output_type": "execute_result",
          "data": {
            "text/plain": [
              "   INCIDENT_NBR CREATION_DATE      INCIDENT_TYPE_DESC DESCRIPTION_GROUPE  \\\n",
              "0             1    2005-01-01              Inondation      Sans incendie   \n",
              "1             2    2005-01-01  Alarme privé ou locale  Alarmes-incendies   \n",
              "2             3    2005-01-01  Alarme privé ou locale  Alarmes-incendies   \n",
              "3             4    2005-01-01              Inondation      Sans incendie   \n",
              "4             5    2005-01-01              Inondation      Sans incendie   \n",
              "\n",
              "   CASERNE      NOM_VILLE                                    NOM_ARROND  \\\n",
              "0       18  Montréal-Nord                                 Montréal-Nord   \n",
              "1       10       Montréal  Ville-Marie / Parc Jean-Drapeau / Centre-Sud   \n",
              "2       72  Saint-Laurent                                    St-Laurent   \n",
              "3       13       Montréal               Mercier / Hochelaga-Maisonneuve   \n",
              "4       18  Montréal-Nord                                 Montréal-Nord   \n",
              "\n",
              "   DIVISION   LATITUDE  LONGITUDE  NOMBRE_UNITES  \n",
              "0        21  45.620274 -73.619956            1.0  \n",
              "1        18  45.494087 -73.582587            7.0  \n",
              "2        13  45.484406 -73.693038            6.0  \n",
              "3        23  45.541383 -73.545944            1.0  \n",
              "4        21  45.611304 -73.632440            1.0  "
            ],
            "text/html": [
              "\n",
              "  <div id=\"df-2e3cde4f-5853-43fd-a9a2-7d069ced7b6d\" class=\"colab-df-container\">\n",
              "    <div>\n",
              "<style scoped>\n",
              "    .dataframe tbody tr th:only-of-type {\n",
              "        vertical-align: middle;\n",
              "    }\n",
              "\n",
              "    .dataframe tbody tr th {\n",
              "        vertical-align: top;\n",
              "    }\n",
              "\n",
              "    .dataframe thead th {\n",
              "        text-align: right;\n",
              "    }\n",
              "</style>\n",
              "<table border=\"1\" class=\"dataframe\">\n",
              "  <thead>\n",
              "    <tr style=\"text-align: right;\">\n",
              "      <th></th>\n",
              "      <th>INCIDENT_NBR</th>\n",
              "      <th>CREATION_DATE</th>\n",
              "      <th>INCIDENT_TYPE_DESC</th>\n",
              "      <th>DESCRIPTION_GROUPE</th>\n",
              "      <th>CASERNE</th>\n",
              "      <th>NOM_VILLE</th>\n",
              "      <th>NOM_ARROND</th>\n",
              "      <th>DIVISION</th>\n",
              "      <th>LATITUDE</th>\n",
              "      <th>LONGITUDE</th>\n",
              "      <th>NOMBRE_UNITES</th>\n",
              "    </tr>\n",
              "  </thead>\n",
              "  <tbody>\n",
              "    <tr>\n",
              "      <th>0</th>\n",
              "      <td>1</td>\n",
              "      <td>2005-01-01</td>\n",
              "      <td>Inondation</td>\n",
              "      <td>Sans incendie</td>\n",
              "      <td>18</td>\n",
              "      <td>Montréal-Nord</td>\n",
              "      <td>Montréal-Nord</td>\n",
              "      <td>21</td>\n",
              "      <td>45.620274</td>\n",
              "      <td>-73.619956</td>\n",
              "      <td>1.0</td>\n",
              "    </tr>\n",
              "    <tr>\n",
              "      <th>1</th>\n",
              "      <td>2</td>\n",
              "      <td>2005-01-01</td>\n",
              "      <td>Alarme privé ou locale</td>\n",
              "      <td>Alarmes-incendies</td>\n",
              "      <td>10</td>\n",
              "      <td>Montréal</td>\n",
              "      <td>Ville-Marie / Parc Jean-Drapeau / Centre-Sud</td>\n",
              "      <td>18</td>\n",
              "      <td>45.494087</td>\n",
              "      <td>-73.582587</td>\n",
              "      <td>7.0</td>\n",
              "    </tr>\n",
              "    <tr>\n",
              "      <th>2</th>\n",
              "      <td>3</td>\n",
              "      <td>2005-01-01</td>\n",
              "      <td>Alarme privé ou locale</td>\n",
              "      <td>Alarmes-incendies</td>\n",
              "      <td>72</td>\n",
              "      <td>Saint-Laurent</td>\n",
              "      <td>St-Laurent</td>\n",
              "      <td>13</td>\n",
              "      <td>45.484406</td>\n",
              "      <td>-73.693038</td>\n",
              "      <td>6.0</td>\n",
              "    </tr>\n",
              "    <tr>\n",
              "      <th>3</th>\n",
              "      <td>4</td>\n",
              "      <td>2005-01-01</td>\n",
              "      <td>Inondation</td>\n",
              "      <td>Sans incendie</td>\n",
              "      <td>13</td>\n",
              "      <td>Montréal</td>\n",
              "      <td>Mercier / Hochelaga-Maisonneuve</td>\n",
              "      <td>23</td>\n",
              "      <td>45.541383</td>\n",
              "      <td>-73.545944</td>\n",
              "      <td>1.0</td>\n",
              "    </tr>\n",
              "    <tr>\n",
              "      <th>4</th>\n",
              "      <td>5</td>\n",
              "      <td>2005-01-01</td>\n",
              "      <td>Inondation</td>\n",
              "      <td>Sans incendie</td>\n",
              "      <td>18</td>\n",
              "      <td>Montréal-Nord</td>\n",
              "      <td>Montréal-Nord</td>\n",
              "      <td>21</td>\n",
              "      <td>45.611304</td>\n",
              "      <td>-73.632440</td>\n",
              "      <td>1.0</td>\n",
              "    </tr>\n",
              "  </tbody>\n",
              "</table>\n",
              "</div>\n",
              "    <div class=\"colab-df-buttons\">\n",
              "\n",
              "  <div class=\"colab-df-container\">\n",
              "    <button class=\"colab-df-convert\" onclick=\"convertToInteractive('df-2e3cde4f-5853-43fd-a9a2-7d069ced7b6d')\"\n",
              "            title=\"Convert this dataframe to an interactive table.\"\n",
              "            style=\"display:none;\">\n",
              "\n",
              "  <svg xmlns=\"http://www.w3.org/2000/svg\" height=\"24px\" viewBox=\"0 -960 960 960\">\n",
              "    <path d=\"M120-120v-720h720v720H120Zm60-500h600v-160H180v160Zm220 220h160v-160H400v160Zm0 220h160v-160H400v160ZM180-400h160v-160H180v160Zm440 0h160v-160H620v160ZM180-180h160v-160H180v160Zm440 0h160v-160H620v160Z\"/>\n",
              "  </svg>\n",
              "    </button>\n",
              "\n",
              "  <style>\n",
              "    .colab-df-container {\n",
              "      display:flex;\n",
              "      gap: 12px;\n",
              "    }\n",
              "\n",
              "    .colab-df-convert {\n",
              "      background-color: #E8F0FE;\n",
              "      border: none;\n",
              "      border-radius: 50%;\n",
              "      cursor: pointer;\n",
              "      display: none;\n",
              "      fill: #1967D2;\n",
              "      height: 32px;\n",
              "      padding: 0 0 0 0;\n",
              "      width: 32px;\n",
              "    }\n",
              "\n",
              "    .colab-df-convert:hover {\n",
              "      background-color: #E2EBFA;\n",
              "      box-shadow: 0px 1px 2px rgba(60, 64, 67, 0.3), 0px 1px 3px 1px rgba(60, 64, 67, 0.15);\n",
              "      fill: #174EA6;\n",
              "    }\n",
              "\n",
              "    .colab-df-buttons div {\n",
              "      margin-bottom: 4px;\n",
              "    }\n",
              "\n",
              "    [theme=dark] .colab-df-convert {\n",
              "      background-color: #3B4455;\n",
              "      fill: #D2E3FC;\n",
              "    }\n",
              "\n",
              "    [theme=dark] .colab-df-convert:hover {\n",
              "      background-color: #434B5C;\n",
              "      box-shadow: 0px 1px 3px 1px rgba(0, 0, 0, 0.15);\n",
              "      filter: drop-shadow(0px 1px 2px rgba(0, 0, 0, 0.3));\n",
              "      fill: #FFFFFF;\n",
              "    }\n",
              "  </style>\n",
              "\n",
              "    <script>\n",
              "      const buttonEl =\n",
              "        document.querySelector('#df-2e3cde4f-5853-43fd-a9a2-7d069ced7b6d button.colab-df-convert');\n",
              "      buttonEl.style.display =\n",
              "        google.colab.kernel.accessAllowed ? 'block' : 'none';\n",
              "\n",
              "      async function convertToInteractive(key) {\n",
              "        const element = document.querySelector('#df-2e3cde4f-5853-43fd-a9a2-7d069ced7b6d');\n",
              "        const dataTable =\n",
              "          await google.colab.kernel.invokeFunction('convertToInteractive',\n",
              "                                                    [key], {});\n",
              "        if (!dataTable) return;\n",
              "\n",
              "        const docLinkHtml = 'Like what you see? Visit the ' +\n",
              "          '<a target=\"_blank\" href=https://colab.research.google.com/notebooks/data_table.ipynb>data table notebook</a>'\n",
              "          + ' to learn more about interactive tables.';\n",
              "        element.innerHTML = '';\n",
              "        dataTable['output_type'] = 'display_data';\n",
              "        await google.colab.output.renderOutput(dataTable, element);\n",
              "        const docLink = document.createElement('div');\n",
              "        docLink.innerHTML = docLinkHtml;\n",
              "        element.appendChild(docLink);\n",
              "      }\n",
              "    </script>\n",
              "  </div>\n",
              "\n",
              "\n",
              "<div id=\"df-97921f4a-4894-47e6-b455-16471d66863b\">\n",
              "  <button class=\"colab-df-quickchart\" onclick=\"quickchart('df-97921f4a-4894-47e6-b455-16471d66863b')\"\n",
              "            title=\"Suggest charts\"\n",
              "            style=\"display:none;\">\n",
              "\n",
              "<svg xmlns=\"http://www.w3.org/2000/svg\" height=\"24px\"viewBox=\"0 0 24 24\"\n",
              "     width=\"24px\">\n",
              "    <g>\n",
              "        <path d=\"M19 3H5c-1.1 0-2 .9-2 2v14c0 1.1.9 2 2 2h14c1.1 0 2-.9 2-2V5c0-1.1-.9-2-2-2zM9 17H7v-7h2v7zm4 0h-2V7h2v10zm4 0h-2v-4h2v4z\"/>\n",
              "    </g>\n",
              "</svg>\n",
              "  </button>\n",
              "\n",
              "<style>\n",
              "  .colab-df-quickchart {\n",
              "      --bg-color: #E8F0FE;\n",
              "      --fill-color: #1967D2;\n",
              "      --hover-bg-color: #E2EBFA;\n",
              "      --hover-fill-color: #174EA6;\n",
              "      --disabled-fill-color: #AAA;\n",
              "      --disabled-bg-color: #DDD;\n",
              "  }\n",
              "\n",
              "  [theme=dark] .colab-df-quickchart {\n",
              "      --bg-color: #3B4455;\n",
              "      --fill-color: #D2E3FC;\n",
              "      --hover-bg-color: #434B5C;\n",
              "      --hover-fill-color: #FFFFFF;\n",
              "      --disabled-bg-color: #3B4455;\n",
              "      --disabled-fill-color: #666;\n",
              "  }\n",
              "\n",
              "  .colab-df-quickchart {\n",
              "    background-color: var(--bg-color);\n",
              "    border: none;\n",
              "    border-radius: 50%;\n",
              "    cursor: pointer;\n",
              "    display: none;\n",
              "    fill: var(--fill-color);\n",
              "    height: 32px;\n",
              "    padding: 0;\n",
              "    width: 32px;\n",
              "  }\n",
              "\n",
              "  .colab-df-quickchart:hover {\n",
              "    background-color: var(--hover-bg-color);\n",
              "    box-shadow: 0 1px 2px rgba(60, 64, 67, 0.3), 0 1px 3px 1px rgba(60, 64, 67, 0.15);\n",
              "    fill: var(--button-hover-fill-color);\n",
              "  }\n",
              "\n",
              "  .colab-df-quickchart-complete:disabled,\n",
              "  .colab-df-quickchart-complete:disabled:hover {\n",
              "    background-color: var(--disabled-bg-color);\n",
              "    fill: var(--disabled-fill-color);\n",
              "    box-shadow: none;\n",
              "  }\n",
              "\n",
              "  .colab-df-spinner {\n",
              "    border: 2px solid var(--fill-color);\n",
              "    border-color: transparent;\n",
              "    border-bottom-color: var(--fill-color);\n",
              "    animation:\n",
              "      spin 1s steps(1) infinite;\n",
              "  }\n",
              "\n",
              "  @keyframes spin {\n",
              "    0% {\n",
              "      border-color: transparent;\n",
              "      border-bottom-color: var(--fill-color);\n",
              "      border-left-color: var(--fill-color);\n",
              "    }\n",
              "    20% {\n",
              "      border-color: transparent;\n",
              "      border-left-color: var(--fill-color);\n",
              "      border-top-color: var(--fill-color);\n",
              "    }\n",
              "    30% {\n",
              "      border-color: transparent;\n",
              "      border-left-color: var(--fill-color);\n",
              "      border-top-color: var(--fill-color);\n",
              "      border-right-color: var(--fill-color);\n",
              "    }\n",
              "    40% {\n",
              "      border-color: transparent;\n",
              "      border-right-color: var(--fill-color);\n",
              "      border-top-color: var(--fill-color);\n",
              "    }\n",
              "    60% {\n",
              "      border-color: transparent;\n",
              "      border-right-color: var(--fill-color);\n",
              "    }\n",
              "    80% {\n",
              "      border-color: transparent;\n",
              "      border-right-color: var(--fill-color);\n",
              "      border-bottom-color: var(--fill-color);\n",
              "    }\n",
              "    90% {\n",
              "      border-color: transparent;\n",
              "      border-bottom-color: var(--fill-color);\n",
              "    }\n",
              "  }\n",
              "</style>\n",
              "\n",
              "  <script>\n",
              "    async function quickchart(key) {\n",
              "      const quickchartButtonEl =\n",
              "        document.querySelector('#' + key + ' button');\n",
              "      quickchartButtonEl.disabled = true;  // To prevent multiple clicks.\n",
              "      quickchartButtonEl.classList.add('colab-df-spinner');\n",
              "      try {\n",
              "        const charts = await google.colab.kernel.invokeFunction(\n",
              "            'suggestCharts', [key], {});\n",
              "      } catch (error) {\n",
              "        console.error('Error during call to suggestCharts:', error);\n",
              "      }\n",
              "      quickchartButtonEl.classList.remove('colab-df-spinner');\n",
              "      quickchartButtonEl.classList.add('colab-df-quickchart-complete');\n",
              "    }\n",
              "    (() => {\n",
              "      let quickchartButtonEl =\n",
              "        document.querySelector('#df-97921f4a-4894-47e6-b455-16471d66863b button');\n",
              "      quickchartButtonEl.style.display =\n",
              "        google.colab.kernel.accessAllowed ? 'block' : 'none';\n",
              "    })();\n",
              "  </script>\n",
              "</div>\n",
              "\n",
              "    </div>\n",
              "  </div>\n"
            ],
            "application/vnd.google.colaboratory.intrinsic+json": {
              "type": "dataframe",
              "variable_name": "df_incidents"
            }
          },
          "metadata": {},
          "execution_count": 30
        }
      ]
    },
    {
      "cell_type": "code",
      "source": [
        "df_incidents['DESCRIPTION_GROUPE'].unique()"
      ],
      "metadata": {
        "colab": {
          "base_uri": "https://localhost:8080/"
        },
        "id": "dwpGkZ4XPR3V",
        "outputId": "7e566ba2-6469-4eed-b9bc-87beec7712e1"
      },
      "execution_count": 31,
      "outputs": [
        {
          "output_type": "execute_result",
          "data": {
            "text/plain": [
              "array(['Sans incendie', 'Alarmes-incendies', 'Autres incendies',\n",
              "       'Fausses alertes/annulations', 'Premier répondant',\n",
              "       'Incendies de bâtiments', 'SANS FEU', '1-REPOND', 'AUTREFEU',\n",
              "       'INCENDIE', 'FAU-ALER', 'NOUVEAU', nan], dtype=object)"
            ]
          },
          "metadata": {},
          "execution_count": 31
        }
      ]
    },
    {
      "cell_type": "code",
      "source": [
        "description_groups_translated = {\n",
        "    \"1-REPOND\": \"First response\",\n",
        "    \"Premier répondant\": \"First response\",\n",
        "    \"Alarmes-incendies\": \"Fire alarm\",\n",
        "    \"SANS FEU\": \"No fire\",\n",
        "    \"Sans incendie\": \"No fire\",\n",
        "    \"Autres incendies\": \"Other fires\",\n",
        "    \"AUTREFEU\": \"Other fires\",\n",
        "    \"Incendies de bâtiments\": \"Building fire\",\n",
        "    \"Fausses alertes/annulations\": \"False alarm/cancellation\",\n",
        "    \"INCENDIE\": \"Fire\",\n",
        "    \"FAU-ALER\": \"False alarm/cancellation\",\n",
        "    \"NOUVEAU\": \"New\"\n",
        "}\n",
        "df_incidents['DESC_GROUP_ENGLISH'] = df_incidents['DESCRIPTION_GROUPE'].map(description_groups_translated)\n",
        "df_incidents.head()"
      ],
      "metadata": {
        "id": "3bEroZTTz8iS",
        "colab": {
          "base_uri": "https://localhost:8080/",
          "height": 293
        },
        "outputId": "9e8cbaef-148a-4c08-a802-202c8a01bd45"
      },
      "execution_count": 32,
      "outputs": [
        {
          "output_type": "execute_result",
          "data": {
            "text/plain": [
              "   INCIDENT_NBR CREATION_DATE      INCIDENT_TYPE_DESC DESCRIPTION_GROUPE  \\\n",
              "0             1    2005-01-01              Inondation      Sans incendie   \n",
              "1             2    2005-01-01  Alarme privé ou locale  Alarmes-incendies   \n",
              "2             3    2005-01-01  Alarme privé ou locale  Alarmes-incendies   \n",
              "3             4    2005-01-01              Inondation      Sans incendie   \n",
              "4             5    2005-01-01              Inondation      Sans incendie   \n",
              "\n",
              "   CASERNE      NOM_VILLE                                    NOM_ARROND  \\\n",
              "0       18  Montréal-Nord                                 Montréal-Nord   \n",
              "1       10       Montréal  Ville-Marie / Parc Jean-Drapeau / Centre-Sud   \n",
              "2       72  Saint-Laurent                                    St-Laurent   \n",
              "3       13       Montréal               Mercier / Hochelaga-Maisonneuve   \n",
              "4       18  Montréal-Nord                                 Montréal-Nord   \n",
              "\n",
              "   DIVISION   LATITUDE  LONGITUDE  NOMBRE_UNITES DESC_GROUP_ENGLISH  \n",
              "0        21  45.620274 -73.619956            1.0            No fire  \n",
              "1        18  45.494087 -73.582587            7.0         Fire alarm  \n",
              "2        13  45.484406 -73.693038            6.0         Fire alarm  \n",
              "3        23  45.541383 -73.545944            1.0            No fire  \n",
              "4        21  45.611304 -73.632440            1.0            No fire  "
            ],
            "text/html": [
              "\n",
              "  <div id=\"df-e947b5db-3b35-4cbe-b559-ea360ee49c24\" class=\"colab-df-container\">\n",
              "    <div>\n",
              "<style scoped>\n",
              "    .dataframe tbody tr th:only-of-type {\n",
              "        vertical-align: middle;\n",
              "    }\n",
              "\n",
              "    .dataframe tbody tr th {\n",
              "        vertical-align: top;\n",
              "    }\n",
              "\n",
              "    .dataframe thead th {\n",
              "        text-align: right;\n",
              "    }\n",
              "</style>\n",
              "<table border=\"1\" class=\"dataframe\">\n",
              "  <thead>\n",
              "    <tr style=\"text-align: right;\">\n",
              "      <th></th>\n",
              "      <th>INCIDENT_NBR</th>\n",
              "      <th>CREATION_DATE</th>\n",
              "      <th>INCIDENT_TYPE_DESC</th>\n",
              "      <th>DESCRIPTION_GROUPE</th>\n",
              "      <th>CASERNE</th>\n",
              "      <th>NOM_VILLE</th>\n",
              "      <th>NOM_ARROND</th>\n",
              "      <th>DIVISION</th>\n",
              "      <th>LATITUDE</th>\n",
              "      <th>LONGITUDE</th>\n",
              "      <th>NOMBRE_UNITES</th>\n",
              "      <th>DESC_GROUP_ENGLISH</th>\n",
              "    </tr>\n",
              "  </thead>\n",
              "  <tbody>\n",
              "    <tr>\n",
              "      <th>0</th>\n",
              "      <td>1</td>\n",
              "      <td>2005-01-01</td>\n",
              "      <td>Inondation</td>\n",
              "      <td>Sans incendie</td>\n",
              "      <td>18</td>\n",
              "      <td>Montréal-Nord</td>\n",
              "      <td>Montréal-Nord</td>\n",
              "      <td>21</td>\n",
              "      <td>45.620274</td>\n",
              "      <td>-73.619956</td>\n",
              "      <td>1.0</td>\n",
              "      <td>No fire</td>\n",
              "    </tr>\n",
              "    <tr>\n",
              "      <th>1</th>\n",
              "      <td>2</td>\n",
              "      <td>2005-01-01</td>\n",
              "      <td>Alarme privé ou locale</td>\n",
              "      <td>Alarmes-incendies</td>\n",
              "      <td>10</td>\n",
              "      <td>Montréal</td>\n",
              "      <td>Ville-Marie / Parc Jean-Drapeau / Centre-Sud</td>\n",
              "      <td>18</td>\n",
              "      <td>45.494087</td>\n",
              "      <td>-73.582587</td>\n",
              "      <td>7.0</td>\n",
              "      <td>Fire alarm</td>\n",
              "    </tr>\n",
              "    <tr>\n",
              "      <th>2</th>\n",
              "      <td>3</td>\n",
              "      <td>2005-01-01</td>\n",
              "      <td>Alarme privé ou locale</td>\n",
              "      <td>Alarmes-incendies</td>\n",
              "      <td>72</td>\n",
              "      <td>Saint-Laurent</td>\n",
              "      <td>St-Laurent</td>\n",
              "      <td>13</td>\n",
              "      <td>45.484406</td>\n",
              "      <td>-73.693038</td>\n",
              "      <td>6.0</td>\n",
              "      <td>Fire alarm</td>\n",
              "    </tr>\n",
              "    <tr>\n",
              "      <th>3</th>\n",
              "      <td>4</td>\n",
              "      <td>2005-01-01</td>\n",
              "      <td>Inondation</td>\n",
              "      <td>Sans incendie</td>\n",
              "      <td>13</td>\n",
              "      <td>Montréal</td>\n",
              "      <td>Mercier / Hochelaga-Maisonneuve</td>\n",
              "      <td>23</td>\n",
              "      <td>45.541383</td>\n",
              "      <td>-73.545944</td>\n",
              "      <td>1.0</td>\n",
              "      <td>No fire</td>\n",
              "    </tr>\n",
              "    <tr>\n",
              "      <th>4</th>\n",
              "      <td>5</td>\n",
              "      <td>2005-01-01</td>\n",
              "      <td>Inondation</td>\n",
              "      <td>Sans incendie</td>\n",
              "      <td>18</td>\n",
              "      <td>Montréal-Nord</td>\n",
              "      <td>Montréal-Nord</td>\n",
              "      <td>21</td>\n",
              "      <td>45.611304</td>\n",
              "      <td>-73.632440</td>\n",
              "      <td>1.0</td>\n",
              "      <td>No fire</td>\n",
              "    </tr>\n",
              "  </tbody>\n",
              "</table>\n",
              "</div>\n",
              "    <div class=\"colab-df-buttons\">\n",
              "\n",
              "  <div class=\"colab-df-container\">\n",
              "    <button class=\"colab-df-convert\" onclick=\"convertToInteractive('df-e947b5db-3b35-4cbe-b559-ea360ee49c24')\"\n",
              "            title=\"Convert this dataframe to an interactive table.\"\n",
              "            style=\"display:none;\">\n",
              "\n",
              "  <svg xmlns=\"http://www.w3.org/2000/svg\" height=\"24px\" viewBox=\"0 -960 960 960\">\n",
              "    <path d=\"M120-120v-720h720v720H120Zm60-500h600v-160H180v160Zm220 220h160v-160H400v160Zm0 220h160v-160H400v160ZM180-400h160v-160H180v160Zm440 0h160v-160H620v160ZM180-180h160v-160H180v160Zm440 0h160v-160H620v160Z\"/>\n",
              "  </svg>\n",
              "    </button>\n",
              "\n",
              "  <style>\n",
              "    .colab-df-container {\n",
              "      display:flex;\n",
              "      gap: 12px;\n",
              "    }\n",
              "\n",
              "    .colab-df-convert {\n",
              "      background-color: #E8F0FE;\n",
              "      border: none;\n",
              "      border-radius: 50%;\n",
              "      cursor: pointer;\n",
              "      display: none;\n",
              "      fill: #1967D2;\n",
              "      height: 32px;\n",
              "      padding: 0 0 0 0;\n",
              "      width: 32px;\n",
              "    }\n",
              "\n",
              "    .colab-df-convert:hover {\n",
              "      background-color: #E2EBFA;\n",
              "      box-shadow: 0px 1px 2px rgba(60, 64, 67, 0.3), 0px 1px 3px 1px rgba(60, 64, 67, 0.15);\n",
              "      fill: #174EA6;\n",
              "    }\n",
              "\n",
              "    .colab-df-buttons div {\n",
              "      margin-bottom: 4px;\n",
              "    }\n",
              "\n",
              "    [theme=dark] .colab-df-convert {\n",
              "      background-color: #3B4455;\n",
              "      fill: #D2E3FC;\n",
              "    }\n",
              "\n",
              "    [theme=dark] .colab-df-convert:hover {\n",
              "      background-color: #434B5C;\n",
              "      box-shadow: 0px 1px 3px 1px rgba(0, 0, 0, 0.15);\n",
              "      filter: drop-shadow(0px 1px 2px rgba(0, 0, 0, 0.3));\n",
              "      fill: #FFFFFF;\n",
              "    }\n",
              "  </style>\n",
              "\n",
              "    <script>\n",
              "      const buttonEl =\n",
              "        document.querySelector('#df-e947b5db-3b35-4cbe-b559-ea360ee49c24 button.colab-df-convert');\n",
              "      buttonEl.style.display =\n",
              "        google.colab.kernel.accessAllowed ? 'block' : 'none';\n",
              "\n",
              "      async function convertToInteractive(key) {\n",
              "        const element = document.querySelector('#df-e947b5db-3b35-4cbe-b559-ea360ee49c24');\n",
              "        const dataTable =\n",
              "          await google.colab.kernel.invokeFunction('convertToInteractive',\n",
              "                                                    [key], {});\n",
              "        if (!dataTable) return;\n",
              "\n",
              "        const docLinkHtml = 'Like what you see? Visit the ' +\n",
              "          '<a target=\"_blank\" href=https://colab.research.google.com/notebooks/data_table.ipynb>data table notebook</a>'\n",
              "          + ' to learn more about interactive tables.';\n",
              "        element.innerHTML = '';\n",
              "        dataTable['output_type'] = 'display_data';\n",
              "        await google.colab.output.renderOutput(dataTable, element);\n",
              "        const docLink = document.createElement('div');\n",
              "        docLink.innerHTML = docLinkHtml;\n",
              "        element.appendChild(docLink);\n",
              "      }\n",
              "    </script>\n",
              "  </div>\n",
              "\n",
              "\n",
              "<div id=\"df-cb3df738-df08-4953-bdab-d4cb6064163a\">\n",
              "  <button class=\"colab-df-quickchart\" onclick=\"quickchart('df-cb3df738-df08-4953-bdab-d4cb6064163a')\"\n",
              "            title=\"Suggest charts\"\n",
              "            style=\"display:none;\">\n",
              "\n",
              "<svg xmlns=\"http://www.w3.org/2000/svg\" height=\"24px\"viewBox=\"0 0 24 24\"\n",
              "     width=\"24px\">\n",
              "    <g>\n",
              "        <path d=\"M19 3H5c-1.1 0-2 .9-2 2v14c0 1.1.9 2 2 2h14c1.1 0 2-.9 2-2V5c0-1.1-.9-2-2-2zM9 17H7v-7h2v7zm4 0h-2V7h2v10zm4 0h-2v-4h2v4z\"/>\n",
              "    </g>\n",
              "</svg>\n",
              "  </button>\n",
              "\n",
              "<style>\n",
              "  .colab-df-quickchart {\n",
              "      --bg-color: #E8F0FE;\n",
              "      --fill-color: #1967D2;\n",
              "      --hover-bg-color: #E2EBFA;\n",
              "      --hover-fill-color: #174EA6;\n",
              "      --disabled-fill-color: #AAA;\n",
              "      --disabled-bg-color: #DDD;\n",
              "  }\n",
              "\n",
              "  [theme=dark] .colab-df-quickchart {\n",
              "      --bg-color: #3B4455;\n",
              "      --fill-color: #D2E3FC;\n",
              "      --hover-bg-color: #434B5C;\n",
              "      --hover-fill-color: #FFFFFF;\n",
              "      --disabled-bg-color: #3B4455;\n",
              "      --disabled-fill-color: #666;\n",
              "  }\n",
              "\n",
              "  .colab-df-quickchart {\n",
              "    background-color: var(--bg-color);\n",
              "    border: none;\n",
              "    border-radius: 50%;\n",
              "    cursor: pointer;\n",
              "    display: none;\n",
              "    fill: var(--fill-color);\n",
              "    height: 32px;\n",
              "    padding: 0;\n",
              "    width: 32px;\n",
              "  }\n",
              "\n",
              "  .colab-df-quickchart:hover {\n",
              "    background-color: var(--hover-bg-color);\n",
              "    box-shadow: 0 1px 2px rgba(60, 64, 67, 0.3), 0 1px 3px 1px rgba(60, 64, 67, 0.15);\n",
              "    fill: var(--button-hover-fill-color);\n",
              "  }\n",
              "\n",
              "  .colab-df-quickchart-complete:disabled,\n",
              "  .colab-df-quickchart-complete:disabled:hover {\n",
              "    background-color: var(--disabled-bg-color);\n",
              "    fill: var(--disabled-fill-color);\n",
              "    box-shadow: none;\n",
              "  }\n",
              "\n",
              "  .colab-df-spinner {\n",
              "    border: 2px solid var(--fill-color);\n",
              "    border-color: transparent;\n",
              "    border-bottom-color: var(--fill-color);\n",
              "    animation:\n",
              "      spin 1s steps(1) infinite;\n",
              "  }\n",
              "\n",
              "  @keyframes spin {\n",
              "    0% {\n",
              "      border-color: transparent;\n",
              "      border-bottom-color: var(--fill-color);\n",
              "      border-left-color: var(--fill-color);\n",
              "    }\n",
              "    20% {\n",
              "      border-color: transparent;\n",
              "      border-left-color: var(--fill-color);\n",
              "      border-top-color: var(--fill-color);\n",
              "    }\n",
              "    30% {\n",
              "      border-color: transparent;\n",
              "      border-left-color: var(--fill-color);\n",
              "      border-top-color: var(--fill-color);\n",
              "      border-right-color: var(--fill-color);\n",
              "    }\n",
              "    40% {\n",
              "      border-color: transparent;\n",
              "      border-right-color: var(--fill-color);\n",
              "      border-top-color: var(--fill-color);\n",
              "    }\n",
              "    60% {\n",
              "      border-color: transparent;\n",
              "      border-right-color: var(--fill-color);\n",
              "    }\n",
              "    80% {\n",
              "      border-color: transparent;\n",
              "      border-right-color: var(--fill-color);\n",
              "      border-bottom-color: var(--fill-color);\n",
              "    }\n",
              "    90% {\n",
              "      border-color: transparent;\n",
              "      border-bottom-color: var(--fill-color);\n",
              "    }\n",
              "  }\n",
              "</style>\n",
              "\n",
              "  <script>\n",
              "    async function quickchart(key) {\n",
              "      const quickchartButtonEl =\n",
              "        document.querySelector('#' + key + ' button');\n",
              "      quickchartButtonEl.disabled = true;  // To prevent multiple clicks.\n",
              "      quickchartButtonEl.classList.add('colab-df-spinner');\n",
              "      try {\n",
              "        const charts = await google.colab.kernel.invokeFunction(\n",
              "            'suggestCharts', [key], {});\n",
              "      } catch (error) {\n",
              "        console.error('Error during call to suggestCharts:', error);\n",
              "      }\n",
              "      quickchartButtonEl.classList.remove('colab-df-spinner');\n",
              "      quickchartButtonEl.classList.add('colab-df-quickchart-complete');\n",
              "    }\n",
              "    (() => {\n",
              "      let quickchartButtonEl =\n",
              "        document.querySelector('#df-cb3df738-df08-4953-bdab-d4cb6064163a button');\n",
              "      quickchartButtonEl.style.display =\n",
              "        google.colab.kernel.accessAllowed ? 'block' : 'none';\n",
              "    })();\n",
              "  </script>\n",
              "</div>\n",
              "\n",
              "    </div>\n",
              "  </div>\n"
            ],
            "application/vnd.google.colaboratory.intrinsic+json": {
              "type": "dataframe",
              "variable_name": "df_incidents"
            }
          },
          "metadata": {},
          "execution_count": 32
        }
      ]
    },
    {
      "cell_type": "code",
      "source": [
        "\"\"\"\n",
        "translator = Translator()\n",
        "df_type_descriptions = pd.read_csv('type-interventions-descriptions20161122.csv')\n",
        "df_type_descriptions.rename(columns={'INCIDENT_TYPE_DESCRIPTION': 'INCIDENT_TYPE_DESC', 'Description': 'DESCRIPTION'}, inplace=True)\n",
        "df_type_descriptions.drop(\n",
        "    df_type_descriptions[df_type_descriptions['DESCRIPTION'] == \"Type qui n'est plus utilisé à la suite de la mise à jour de l'algorithme en 2016\"].index,\n",
        "    inplace=True\n",
        ")\n",
        "df_type_descriptions['DESC_ENGLISH'] = df_type_descriptions['DESCRIPTION'].apply(translator.translate, src='fr', dest='en').apply(getattr, args=('text',))\n",
        "df_type_descriptions.head()\n",
        "\"\"\""
      ],
      "metadata": {
        "colab": {
          "base_uri": "https://localhost:8080/",
          "height": 86
        },
        "id": "oh2KNrGUmZ11",
        "outputId": "29c4c1fd-bb7e-4a59-eb0a-7746f4da4001"
      },
      "execution_count": 33,
      "outputs": [
        {
          "output_type": "execute_result",
          "data": {
            "text/plain": [
              "'\\ntranslator = Translator()\\ndf_type_descriptions = pd.read_csv(\\'type-interventions-descriptions20161122.csv\\')\\ndf_type_descriptions.rename(columns={\\'INCIDENT_TYPE_DESCRIPTION\\': \\'INCIDENT_TYPE_DESC\\', \\'Description\\': \\'DESCRIPTION\\'}, inplace=True)\\ndf_type_descriptions.drop(\\n    df_type_descriptions[df_type_descriptions[\\'DESCRIPTION\\'] == \"Type qui n\\'est plus utilisé à la suite de la mise à jour de l\\'algorithme en 2016\"].index,\\n    inplace=True\\n)\\ndf_type_descriptions[\\'DESC_ENGLISH\\'] = df_type_descriptions[\\'DESCRIPTION\\'].apply(translator.translate, src=\\'fr\\', dest=\\'en\\').apply(getattr, args=(\\'text\\',))\\ndf_type_descriptions.head()\\n'"
            ],
            "application/vnd.google.colaboratory.intrinsic+json": {
              "type": "string"
            }
          },
          "metadata": {},
          "execution_count": 33
        }
      ]
    },
    {
      "cell_type": "code",
      "source": [
        "\"\"\"\n",
        "df_merged = pd.merge(df_incidents, df_type_descriptions, on='INCIDENT_TYPE_DESC', how='left')\n",
        "df_merged = df_merged.iloc[:, [1, 0, 2, 3, 4, 5, 6, 7, 8, 9, 10, 12, 11, 13]]\n",
        "print(df_merged.shape)\n",
        "df_merged.head()\n",
        "\"\"\""
      ],
      "metadata": {
        "id": "Ci86BRVBoEiS",
        "colab": {
          "base_uri": "https://localhost:8080/",
          "height": 52
        },
        "outputId": "1f877709-faa1-4cc9-ef40-89182777d4b4"
      },
      "execution_count": 34,
      "outputs": [
        {
          "output_type": "execute_result",
          "data": {
            "text/plain": [
              "\"\\ndf_merged = pd.merge(df_incidents, df_type_descriptions, on='INCIDENT_TYPE_DESC', how='left')\\ndf_merged = df_merged.iloc[:, [1, 0, 2, 3, 4, 5, 6, 7, 8, 9, 10, 12, 11, 13]]\\nprint(df_merged.shape)\\ndf_merged.head()\\n\""
            ],
            "application/vnd.google.colaboratory.intrinsic+json": {
              "type": "string"
            }
          },
          "metadata": {},
          "execution_count": 34
        }
      ]
    },
    {
      "cell_type": "code",
      "source": [
        "df_na = df_incidents[df_incidents.isna().any(axis=1) == True]\n",
        "df_na.shape"
      ],
      "metadata": {
        "colab": {
          "base_uri": "https://localhost:8080/"
        },
        "id": "1IEDqa73sioz",
        "outputId": "c388dac6-7946-4987-bcdf-e65ecd761f32"
      },
      "execution_count": 35,
      "outputs": [
        {
          "output_type": "execute_result",
          "data": {
            "text/plain": [
              "(1784, 12)"
            ]
          },
          "metadata": {},
          "execution_count": 35
        }
      ]
    },
    {
      "cell_type": "code",
      "source": [
        "df_na.isna().sum()"
      ],
      "metadata": {
        "colab": {
          "base_uri": "https://localhost:8080/",
          "height": 461
        },
        "id": "soJ3CNJ4vomt",
        "outputId": "a7717857-492a-4925-8bff-e67c44c92fda"
      },
      "execution_count": 36,
      "outputs": [
        {
          "output_type": "execute_result",
          "data": {
            "text/plain": [
              "INCIDENT_NBR             0\n",
              "CREATION_DATE            0\n",
              "INCIDENT_TYPE_DESC       0\n",
              "DESCRIPTION_GROUPE    1034\n",
              "CASERNE                  0\n",
              "NOM_VILLE                0\n",
              "NOM_ARROND               0\n",
              "DIVISION                 0\n",
              "LATITUDE                 1\n",
              "LONGITUDE                1\n",
              "NOMBRE_UNITES          749\n",
              "DESC_GROUP_ENGLISH    1034\n",
              "dtype: int64"
            ],
            "text/html": [
              "<div>\n",
              "<style scoped>\n",
              "    .dataframe tbody tr th:only-of-type {\n",
              "        vertical-align: middle;\n",
              "    }\n",
              "\n",
              "    .dataframe tbody tr th {\n",
              "        vertical-align: top;\n",
              "    }\n",
              "\n",
              "    .dataframe thead th {\n",
              "        text-align: right;\n",
              "    }\n",
              "</style>\n",
              "<table border=\"1\" class=\"dataframe\">\n",
              "  <thead>\n",
              "    <tr style=\"text-align: right;\">\n",
              "      <th></th>\n",
              "      <th>0</th>\n",
              "    </tr>\n",
              "  </thead>\n",
              "  <tbody>\n",
              "    <tr>\n",
              "      <th>INCIDENT_NBR</th>\n",
              "      <td>0</td>\n",
              "    </tr>\n",
              "    <tr>\n",
              "      <th>CREATION_DATE</th>\n",
              "      <td>0</td>\n",
              "    </tr>\n",
              "    <tr>\n",
              "      <th>INCIDENT_TYPE_DESC</th>\n",
              "      <td>0</td>\n",
              "    </tr>\n",
              "    <tr>\n",
              "      <th>DESCRIPTION_GROUPE</th>\n",
              "      <td>1034</td>\n",
              "    </tr>\n",
              "    <tr>\n",
              "      <th>CASERNE</th>\n",
              "      <td>0</td>\n",
              "    </tr>\n",
              "    <tr>\n",
              "      <th>NOM_VILLE</th>\n",
              "      <td>0</td>\n",
              "    </tr>\n",
              "    <tr>\n",
              "      <th>NOM_ARROND</th>\n",
              "      <td>0</td>\n",
              "    </tr>\n",
              "    <tr>\n",
              "      <th>DIVISION</th>\n",
              "      <td>0</td>\n",
              "    </tr>\n",
              "    <tr>\n",
              "      <th>LATITUDE</th>\n",
              "      <td>1</td>\n",
              "    </tr>\n",
              "    <tr>\n",
              "      <th>LONGITUDE</th>\n",
              "      <td>1</td>\n",
              "    </tr>\n",
              "    <tr>\n",
              "      <th>NOMBRE_UNITES</th>\n",
              "      <td>749</td>\n",
              "    </tr>\n",
              "    <tr>\n",
              "      <th>DESC_GROUP_ENGLISH</th>\n",
              "      <td>1034</td>\n",
              "    </tr>\n",
              "  </tbody>\n",
              "</table>\n",
              "</div><br><label><b>dtype:</b> int64</label>"
            ]
          },
          "metadata": {},
          "execution_count": 36
        }
      ]
    },
    {
      "cell_type": "code",
      "source": [
        "df_incidents.dropna(axis=0, inplace=True)\n",
        "df_incidents.shape"
      ],
      "metadata": {
        "colab": {
          "base_uri": "https://localhost:8080/"
        },
        "id": "7rf4yjin9b4G",
        "outputId": "860206c4-96a7-4789-a191-e98d1b7c02cb"
      },
      "execution_count": 37,
      "outputs": [
        {
          "output_type": "execute_result",
          "data": {
            "text/plain": [
              "(2049095, 12)"
            ]
          },
          "metadata": {},
          "execution_count": 37
        }
      ]
    },
    {
      "cell_type": "code",
      "source": [
        "df_incidents['DESC_GROUP_ENGLISH'].value_counts()"
      ],
      "metadata": {
        "colab": {
          "base_uri": "https://localhost:8080/",
          "height": 366
        },
        "id": "7Hl5SfoNPS1H",
        "outputId": "da38cf8d-7711-48f1-8ba2-4acde09ca95d"
      },
      "execution_count": 38,
      "outputs": [
        {
          "output_type": "execute_result",
          "data": {
            "text/plain": [
              "DESC_GROUP_ENGLISH\n",
              "First response              1227941\n",
              "No fire                      434764\n",
              "Fire alarm                   286956\n",
              "Other fires                   67051\n",
              "Building fire                 14593\n",
              "Fire                          12257\n",
              "False alarm/cancellation       5526\n",
              "New                               7\n",
              "Name: count, dtype: int64"
            ],
            "text/html": [
              "<div>\n",
              "<style scoped>\n",
              "    .dataframe tbody tr th:only-of-type {\n",
              "        vertical-align: middle;\n",
              "    }\n",
              "\n",
              "    .dataframe tbody tr th {\n",
              "        vertical-align: top;\n",
              "    }\n",
              "\n",
              "    .dataframe thead th {\n",
              "        text-align: right;\n",
              "    }\n",
              "</style>\n",
              "<table border=\"1\" class=\"dataframe\">\n",
              "  <thead>\n",
              "    <tr style=\"text-align: right;\">\n",
              "      <th></th>\n",
              "      <th>count</th>\n",
              "    </tr>\n",
              "    <tr>\n",
              "      <th>DESC_GROUP_ENGLISH</th>\n",
              "      <th></th>\n",
              "    </tr>\n",
              "  </thead>\n",
              "  <tbody>\n",
              "    <tr>\n",
              "      <th>First response</th>\n",
              "      <td>1227941</td>\n",
              "    </tr>\n",
              "    <tr>\n",
              "      <th>No fire</th>\n",
              "      <td>434764</td>\n",
              "    </tr>\n",
              "    <tr>\n",
              "      <th>Fire alarm</th>\n",
              "      <td>286956</td>\n",
              "    </tr>\n",
              "    <tr>\n",
              "      <th>Other fires</th>\n",
              "      <td>67051</td>\n",
              "    </tr>\n",
              "    <tr>\n",
              "      <th>Building fire</th>\n",
              "      <td>14593</td>\n",
              "    </tr>\n",
              "    <tr>\n",
              "      <th>Fire</th>\n",
              "      <td>12257</td>\n",
              "    </tr>\n",
              "    <tr>\n",
              "      <th>False alarm/cancellation</th>\n",
              "      <td>5526</td>\n",
              "    </tr>\n",
              "    <tr>\n",
              "      <th>New</th>\n",
              "      <td>7</td>\n",
              "    </tr>\n",
              "  </tbody>\n",
              "</table>\n",
              "</div><br><label><b>dtype:</b> int64</label>"
            ]
          },
          "metadata": {},
          "execution_count": 38
        }
      ]
    },
    {
      "cell_type": "code",
      "source": [
        "df_incidents_clean = df_incidents[df_incidents['DESC_GROUP_ENGLISH'].isin(['Fire', 'Building fire', 'Other fires'])]\n",
        "df_incidents_clean.shape"
      ],
      "metadata": {
        "colab": {
          "base_uri": "https://localhost:8080/"
        },
        "id": "l8Siy40MPlfJ",
        "outputId": "afed334d-f3e5-4f52-e239-d6321adfec61"
      },
      "execution_count": 39,
      "outputs": [
        {
          "output_type": "execute_result",
          "data": {
            "text/plain": [
              "(93901, 12)"
            ]
          },
          "metadata": {},
          "execution_count": 39
        }
      ]
    },
    {
      "cell_type": "code",
      "source": [
        "df_incidents_clean['CASERNE'].unique()"
      ],
      "metadata": {
        "colab": {
          "base_uri": "https://localhost:8080/"
        },
        "id": "UZer9DslhP-v",
        "outputId": "f8fa8913-d041-4a0b-8a4a-266a47337e06"
      },
      "execution_count": 40,
      "outputs": [
        {
          "output_type": "execute_result",
          "data": {
            "text/plain": [
              "array([22, 47, 43, 15, 41, 14, 76,  9, 53, 26, 21, 18, 54, 33, 20, 23, 27,\n",
              "       35, 17, 49, 44, 29, 72, 65, 40, 73, 30, 38, 19, 48,  4, 52, 42, 66,\n",
              "       79, 64, 55, 34,  5, 37, 57, 39, 13, 16, 10, 45, 67, 50, 61, 46, 25,\n",
              "       31, 63, 28, 71,  8, 74, 51,  3, 78, 75, 62, 58, 77, 56, 59, 32])"
            ]
          },
          "metadata": {},
          "execution_count": 40
        }
      ]
    },
    {
      "cell_type": "code",
      "source": [
        "df_incidents_clean['NOM_VILLE'].unique()"
      ],
      "metadata": {
        "colab": {
          "base_uri": "https://localhost:8080/"
        },
        "id": "9QjRTrUZlpTw",
        "outputId": "ada53d2b-5253-4125-9c69-bdd03aff569a"
      },
      "execution_count": 41,
      "outputs": [
        {
          "output_type": "execute_result",
          "data": {
            "text/plain": [
              "array(['Saint-Léonard', 'Montréal', 'Westmount', 'Beaconsfield',\n",
              "       'Montréal-Nord', 'Kirkland', 'Saint-Laurent', 'Lasalle',\n",
              "       \"Baie d'Urfé\", 'Verdun / Ïle-des-Soeurs', 'Hampstead', 'Lachine',\n",
              "       'Pointe-Claire', 'Pierrefonds ', 'Dollard-des-Ormeaux', 'Dorval',\n",
              "       'Anjou', 'Montréal-Est', 'Mont-Royal', 'Ste-Anne-de-Bellevue',\n",
              "       'Côte St-Luc', 'Outremont', 'Ile-Bizard', 'Roxboro',\n",
              "       'Montréal-Ouest', 'Senneville', 'Ste-Geneviève', 'Côte-Saint-Luc',\n",
              "       'Sainte-Anne-de-Bellevue', \"Baie-d'Urfé\", \"L'Île-Dorval\"],\n",
              "      dtype=object)"
            ]
          },
          "metadata": {},
          "execution_count": 41
        }
      ]
    },
    {
      "cell_type": "code",
      "source": [
        "df_incidents_clean['NOM_ARROND'].unique()"
      ],
      "metadata": {
        "colab": {
          "base_uri": "https://localhost:8080/"
        },
        "outputId": "f8b34129-b04b-4cdf-8fea-4cc70a812166",
        "id": "fMDqoy2lmadN"
      },
      "execution_count": 42,
      "outputs": [
        {
          "output_type": "execute_result",
          "data": {
            "text/plain": [
              "array(['St-Léonard', 'Rosemont / Petite-Patrie',\n",
              "       'Ahuntsic / Cartierville', 'Sud-Ouest',\n",
              "       'Villeray / St-Michel / Parc Extension',\n",
              "       'Rivière-des-Prairies / P-A-T/Mtl-Est',\n",
              "       'Côte-des-Neiges / Notre-Dame-de-Grâce',\n",
              "       \"Beaconsfield / Baie d'Urfé\", 'Plateau Mont-Royal',\n",
              "       'Montréal-Nord', 'Kirkland', 'Westmount',\n",
              "       'Ville-Marie / Parc Jean-Drapeau / Centre-Sud', 'St-Laurent',\n",
              "       'Lasalle', 'Mercier / Hochelaga-Maisonneuve',\n",
              "       'Verdun / Ïle-des-Soeurs', 'Côte St-Luc / Hampstead / Mtl-Ouest',\n",
              "       'Lachine', 'Pointe-Claire', 'Pierrefonds / Senneville',\n",
              "       'Dollard-des-Ormeaux / Roxboro', 'Dorval / Ile Dorval', 'Anjou',\n",
              "       'Mont-Royal', 'Ile-Bizard / Ste-Geneviève / Ste-A-de-B',\n",
              "       'Outremont', 'Indéterminé',\n",
              "       'Rivière-des-Prairies / Pointe-aux-Trembles', 'Ville-Marie',\n",
              "       'Saint-Laurent', 'Pierrefonds / Roxboro', 'Verdun',\n",
              "       'Saint-Léonard', \"L'Ile-Bizard / Ste-Geneviève\",\n",
              "       'Villeray-Saint-Michel-Parc-Extension', 'Le Sud-Ouest',\n",
              "       'Mercier-Hochelaga-Maisonneuve', 'Ahuntsic-Cartierville',\n",
              "       'Le Plateau-Mont-Royal', 'LaSalle', 'Pierrefonds-Roxboro',\n",
              "       'Rosemont-La Petite-Patrie',\n",
              "       'Rivière-des-Prairies-Pointe-aux-Trembles',\n",
              "       'Côte-des-Neiges-Notre-Dame-de-Grâce',\n",
              "       \"L'Île-Bizard-Sainte-Geneviève\"], dtype=object)"
            ]
          },
          "metadata": {},
          "execution_count": 42
        }
      ]
    },
    {
      "cell_type": "code",
      "source": [
        "df_incidents_clean['DIVISION'].unique()"
      ],
      "metadata": {
        "colab": {
          "base_uri": "https://localhost:8080/"
        },
        "outputId": "735c65cb-1fa2-424e-cf52-b228924519ef",
        "id": "Sg3S7KL2m6iX"
      },
      "execution_count": 43,
      "outputs": [
        {
          "output_type": "execute_result",
          "data": {
            "text/plain": [
              "array([20, 22, 21, 15, 25, 17, 12, 18, 13, 14, 23, 11, 10,  8,  9,  7,  3,\n",
              "        4,  1,  6,  5,  2,  0])"
            ]
          },
          "metadata": {},
          "execution_count": 43
        }
      ]
    },
    {
      "cell_type": "code",
      "source": [
        "df_incidents_clean['NOMBRE_UNITES'].unique()"
      ],
      "metadata": {
        "colab": {
          "base_uri": "https://localhost:8080/"
        },
        "outputId": "02d4f066-8d11-4e50-cfee-aa055b294696",
        "id": "prl1i--ln65n"
      },
      "execution_count": 44,
      "outputs": [
        {
          "output_type": "execute_result",
          "data": {
            "text/plain": [
              "array([  4.,   1.,   7.,   8.,   3.,  16.,  10.,   5.,   2.,  18.,   6.,\n",
              "        12.,  21.,  15.,  14.,  98.,   9.,  32.,  20.,  31.,  19.,  39.,\n",
              "        42.,  11.,  23.,  51.,  70.,  35.,  46.,  34.,  13.,  38.,  17.,\n",
              "        40.,  36.,  41.,  29.,  22.,  56.,  64.,  44.,  89.,  28.,  27.,\n",
              "        62.,  24.,  52.,  37.,  33.,  43., 100.,  30.,  45.,  80.,  71.,\n",
              "        91.,  50.,  48.,  79.,  25.,  55.,  57.,  68.,  66.,  49.,  53.,\n",
              "        77.,  67.,  87.,  92.,  88.,  95.,  26.,  63., 104.,  60.,  73.,\n",
              "        47.,  90.,  81.,  69., 118.,  61.,  75.,  65., 132.,  54.,  58.,\n",
              "       107., 135.,  96., 148.,  85., 275.,  78., 123., 119.,  59.,  83.,\n",
              "        93.,  86., 102.,  76., 117.,  74.,  72.,  94., 163., 126., 120.,\n",
              "       106., 130., 153.,  82.,  84., 115., 127., 108., 160., 101., 199.,\n",
              "       103., 244., 105., 172.])"
            ]
          },
          "metadata": {},
          "execution_count": 44
        }
      ]
    },
    {
      "cell_type": "code",
      "source": [
        "df_incidents_clean.to_csv('incidents-clean.csv', index=False)"
      ],
      "metadata": {
        "id": "ZROfEpZvQAqj"
      },
      "execution_count": 45,
      "outputs": []
    },
    {
      "cell_type": "code",
      "source": [],
      "metadata": {
        "id": "0JbVUzgNs5nk"
      },
      "execution_count": 45,
      "outputs": []
    }
  ]
}